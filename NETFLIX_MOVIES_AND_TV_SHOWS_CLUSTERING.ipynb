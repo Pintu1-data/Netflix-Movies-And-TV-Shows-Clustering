{
  "nbformat": 4,
  "nbformat_minor": 0,
  "metadata": {
    "colab": {
      "name": "NETFLIX MOVIES AND TV SHOWS CLUSTERING.ipynb",
      "provenance": [],
      "collapsed_sections": [],
      "include_colab_link": true
    },
    "kernelspec": {
      "name": "python3",
      "display_name": "Python 3"
    },
    "language_info": {
      "name": "python"
    }
  },
  "cells": [
    {
      "cell_type": "markdown",
      "metadata": {
        "id": "view-in-github",
        "colab_type": "text"
      },
      "source": [
        "<a href=\"https://colab.research.google.com/github/Pintu1-data/Netflix-Movies-And-TV-Shows-Clustering/blob/main/NETFLIX_MOVIES_AND_TV_SHOWS_CLUSTERING.ipynb\" target=\"_parent\"><img src=\"https://colab.research.google.com/assets/colab-badge.svg\" alt=\"Open In Colab\"/></a>"
      ]
    },
    {
      "cell_type": "markdown",
      "metadata": {
        "id": "LGcl5Bv9ed6u"
      },
      "source": [
        "# **Problem Statement**"
      ]
    },
    {
      "cell_type": "markdown",
      "metadata": {
        "id": "8M5kyFaVjzXk"
      },
      "source": [
        "This dataset consists of tv shows and movies available on Netflix as of 2019. The dataset is collected from Flixable which is a third-party Netflix search engine.\n",
        "\n",
        "In 2018, they released an interesting report which shows that the number of TV shows on Netflix has nearly tripled since 2010. The streaming service’s number of movies has decreased by more than 2,000 titles since 2010, while its number of TV shows has nearly tripled. It will be interesting to explore what all other insights can be obtained from the same dataset.\n",
        "\n",
        "Integrating this dataset with other external datasets such as IMDB ratings, rotten tomatoes can also provide many interesting findings."
      ]
    },
    {
      "cell_type": "markdown",
      "metadata": {
        "id": "tLx5cJO8hzb1"
      },
      "source": [
        "## <b>In this  project, you are required to do </b>\n",
        "1. Exploratory Data Analysis \n",
        "\n",
        "2. Understanding what type content is available in different countries\n",
        "\n",
        "3. Is Netflix has increasingly focusing on TV rather than movies in recent years.\n",
        "4. Clustering similar content by matching text-based features\n",
        "\n"
      ]
    },
    {
      "cell_type": "markdown",
      "metadata": {
        "id": "AzGDqdC4fZ-b"
      },
      "source": [
        "# **Attribute Information**"
      ]
    },
    {
      "cell_type": "markdown",
      "metadata": {
        "id": "jhfLYargscGV"
      },
      "source": [
        "1. show_id : Unique ID for every Movie / Tv Show\n",
        "\n",
        "2. type : Identifier - A Movie or TV Show\n",
        "\n",
        "3. title : Title of the Movie / Tv Show\n",
        "\n",
        "4. director : Director of the Movie\n",
        "\n",
        "5. cast : Actors involved in the movie / show\n",
        "\n",
        "6. country : Country where the movie / show was produced\n",
        "\n",
        "7. date_added : Date it was added on Netflix\n",
        "\n",
        "8. release_year : Actual Releaseyear of the movie / show\n",
        "\n",
        "9. rating : TV Rating of the movie / show\n",
        "\n",
        "10. duration : Total Duration - in minutes or number of seasons\n",
        "\n",
        "11. listed_in : Genere\n",
        "\n",
        "12. description: The Summary description"
      ]
    },
    {
      "cell_type": "markdown",
      "source": [
        "import all requred libraries for EDA"
      ],
      "metadata": {
        "id": "CEOu3Mawqcyx"
      }
    },
    {
      "cell_type": "code",
      "source": [
        "# Importing basic libraries\n",
        "import pandas as pd\n",
        "import numpy as np\n",
        "\n",
        "# Importing libraries for visualization\n",
        "import matplotlib.pyplot as plt\n",
        "%matplotlib inline\n",
        "import seaborn as sns\n",
        "\n",
        "import warnings\n",
        "warnings.filterwarnings(action='ignore')"
      ],
      "metadata": {
        "id": "er9IObhrrGfl"
      },
      "execution_count": 1,
      "outputs": []
    },
    {
      "cell_type": "markdown",
      "source": [
        "Mounting drive and Loading Dataset"
      ],
      "metadata": {
        "id": "TnK5FKYTrcm1"
      }
    },
    {
      "cell_type": "code",
      "source": [
        "from google.colab import drive\n",
        "drive.mount('/content/drive')"
      ],
      "metadata": {
        "colab": {
          "base_uri": "https://localhost:8080/"
        },
        "id": "E2fhtbmzr77J",
        "outputId": "b893fbd9-afdb-474a-edba-8a3db65bb76f"
      },
      "execution_count": 2,
      "outputs": [
        {
          "output_type": "stream",
          "name": "stdout",
          "text": [
            "Mounted at /content/drive\n"
          ]
        }
      ]
    },
    {
      "cell_type": "code",
      "source": [
        "df=pd.read_csv('/content/drive/MyDrive/NETFLIX MOVIES AND TV SHOWS CLUSTERING.csv')"
      ],
      "metadata": {
        "id": "ZvaOFn0srnMM"
      },
      "execution_count": 3,
      "outputs": []
    },
    {
      "cell_type": "markdown",
      "source": [
        "Looking and understanding about all the aspects of dataset."
      ],
      "metadata": {
        "id": "nzYOBbpEsifl"
      }
    },
    {
      "cell_type": "code",
      "source": [
        "#first look of dataset\n",
        "df.head()"
      ],
      "metadata": {
        "colab": {
          "base_uri": "https://localhost:8080/",
          "height": 424
        },
        "id": "vDAq0SbZrao4",
        "outputId": "6dbabf06-5da2-42d4-e53d-a3ad491ea791"
      },
      "execution_count": 4,
      "outputs": [
        {
          "output_type": "execute_result",
          "data": {
            "text/html": [
              "\n",
              "  <div id=\"df-0bb8f426-d6c3-40ef-8e26-533ee74cd1aa\">\n",
              "    <div class=\"colab-df-container\">\n",
              "      <div>\n",
              "<style scoped>\n",
              "    .dataframe tbody tr th:only-of-type {\n",
              "        vertical-align: middle;\n",
              "    }\n",
              "\n",
              "    .dataframe tbody tr th {\n",
              "        vertical-align: top;\n",
              "    }\n",
              "\n",
              "    .dataframe thead th {\n",
              "        text-align: right;\n",
              "    }\n",
              "</style>\n",
              "<table border=\"1\" class=\"dataframe\">\n",
              "  <thead>\n",
              "    <tr style=\"text-align: right;\">\n",
              "      <th></th>\n",
              "      <th>show_id</th>\n",
              "      <th>type</th>\n",
              "      <th>title</th>\n",
              "      <th>director</th>\n",
              "      <th>cast</th>\n",
              "      <th>country</th>\n",
              "      <th>date_added</th>\n",
              "      <th>release_year</th>\n",
              "      <th>rating</th>\n",
              "      <th>duration</th>\n",
              "      <th>listed_in</th>\n",
              "      <th>description</th>\n",
              "    </tr>\n",
              "  </thead>\n",
              "  <tbody>\n",
              "    <tr>\n",
              "      <th>0</th>\n",
              "      <td>s1</td>\n",
              "      <td>TV Show</td>\n",
              "      <td>3%</td>\n",
              "      <td>NaN</td>\n",
              "      <td>João Miguel, Bianca Comparato, Michel Gomes, R...</td>\n",
              "      <td>Brazil</td>\n",
              "      <td>August 14, 2020</td>\n",
              "      <td>2020</td>\n",
              "      <td>TV-MA</td>\n",
              "      <td>4 Seasons</td>\n",
              "      <td>International TV Shows, TV Dramas, TV Sci-Fi &amp;...</td>\n",
              "      <td>In a future where the elite inhabit an island ...</td>\n",
              "    </tr>\n",
              "    <tr>\n",
              "      <th>1</th>\n",
              "      <td>s2</td>\n",
              "      <td>Movie</td>\n",
              "      <td>7:19</td>\n",
              "      <td>Jorge Michel Grau</td>\n",
              "      <td>Demián Bichir, Héctor Bonilla, Oscar Serrano, ...</td>\n",
              "      <td>Mexico</td>\n",
              "      <td>December 23, 2016</td>\n",
              "      <td>2016</td>\n",
              "      <td>TV-MA</td>\n",
              "      <td>93 min</td>\n",
              "      <td>Dramas, International Movies</td>\n",
              "      <td>After a devastating earthquake hits Mexico Cit...</td>\n",
              "    </tr>\n",
              "    <tr>\n",
              "      <th>2</th>\n",
              "      <td>s3</td>\n",
              "      <td>Movie</td>\n",
              "      <td>23:59</td>\n",
              "      <td>Gilbert Chan</td>\n",
              "      <td>Tedd Chan, Stella Chung, Henley Hii, Lawrence ...</td>\n",
              "      <td>Singapore</td>\n",
              "      <td>December 20, 2018</td>\n",
              "      <td>2011</td>\n",
              "      <td>R</td>\n",
              "      <td>78 min</td>\n",
              "      <td>Horror Movies, International Movies</td>\n",
              "      <td>When an army recruit is found dead, his fellow...</td>\n",
              "    </tr>\n",
              "    <tr>\n",
              "      <th>3</th>\n",
              "      <td>s4</td>\n",
              "      <td>Movie</td>\n",
              "      <td>9</td>\n",
              "      <td>Shane Acker</td>\n",
              "      <td>Elijah Wood, John C. Reilly, Jennifer Connelly...</td>\n",
              "      <td>United States</td>\n",
              "      <td>November 16, 2017</td>\n",
              "      <td>2009</td>\n",
              "      <td>PG-13</td>\n",
              "      <td>80 min</td>\n",
              "      <td>Action &amp; Adventure, Independent Movies, Sci-Fi...</td>\n",
              "      <td>In a postapocalyptic world, rag-doll robots hi...</td>\n",
              "    </tr>\n",
              "    <tr>\n",
              "      <th>4</th>\n",
              "      <td>s5</td>\n",
              "      <td>Movie</td>\n",
              "      <td>21</td>\n",
              "      <td>Robert Luketic</td>\n",
              "      <td>Jim Sturgess, Kevin Spacey, Kate Bosworth, Aar...</td>\n",
              "      <td>United States</td>\n",
              "      <td>January 1, 2020</td>\n",
              "      <td>2008</td>\n",
              "      <td>PG-13</td>\n",
              "      <td>123 min</td>\n",
              "      <td>Dramas</td>\n",
              "      <td>A brilliant group of students become card-coun...</td>\n",
              "    </tr>\n",
              "  </tbody>\n",
              "</table>\n",
              "</div>\n",
              "      <button class=\"colab-df-convert\" onclick=\"convertToInteractive('df-0bb8f426-d6c3-40ef-8e26-533ee74cd1aa')\"\n",
              "              title=\"Convert this dataframe to an interactive table.\"\n",
              "              style=\"display:none;\">\n",
              "        \n",
              "  <svg xmlns=\"http://www.w3.org/2000/svg\" height=\"24px\"viewBox=\"0 0 24 24\"\n",
              "       width=\"24px\">\n",
              "    <path d=\"M0 0h24v24H0V0z\" fill=\"none\"/>\n",
              "    <path d=\"M18.56 5.44l.94 2.06.94-2.06 2.06-.94-2.06-.94-.94-2.06-.94 2.06-2.06.94zm-11 1L8.5 8.5l.94-2.06 2.06-.94-2.06-.94L8.5 2.5l-.94 2.06-2.06.94zm10 10l.94 2.06.94-2.06 2.06-.94-2.06-.94-.94-2.06-.94 2.06-2.06.94z\"/><path d=\"M17.41 7.96l-1.37-1.37c-.4-.4-.92-.59-1.43-.59-.52 0-1.04.2-1.43.59L10.3 9.45l-7.72 7.72c-.78.78-.78 2.05 0 2.83L4 21.41c.39.39.9.59 1.41.59.51 0 1.02-.2 1.41-.59l7.78-7.78 2.81-2.81c.8-.78.8-2.07 0-2.86zM5.41 20L4 18.59l7.72-7.72 1.47 1.35L5.41 20z\"/>\n",
              "  </svg>\n",
              "      </button>\n",
              "      \n",
              "  <style>\n",
              "    .colab-df-container {\n",
              "      display:flex;\n",
              "      flex-wrap:wrap;\n",
              "      gap: 12px;\n",
              "    }\n",
              "\n",
              "    .colab-df-convert {\n",
              "      background-color: #E8F0FE;\n",
              "      border: none;\n",
              "      border-radius: 50%;\n",
              "      cursor: pointer;\n",
              "      display: none;\n",
              "      fill: #1967D2;\n",
              "      height: 32px;\n",
              "      padding: 0 0 0 0;\n",
              "      width: 32px;\n",
              "    }\n",
              "\n",
              "    .colab-df-convert:hover {\n",
              "      background-color: #E2EBFA;\n",
              "      box-shadow: 0px 1px 2px rgba(60, 64, 67, 0.3), 0px 1px 3px 1px rgba(60, 64, 67, 0.15);\n",
              "      fill: #174EA6;\n",
              "    }\n",
              "\n",
              "    [theme=dark] .colab-df-convert {\n",
              "      background-color: #3B4455;\n",
              "      fill: #D2E3FC;\n",
              "    }\n",
              "\n",
              "    [theme=dark] .colab-df-convert:hover {\n",
              "      background-color: #434B5C;\n",
              "      box-shadow: 0px 1px 3px 1px rgba(0, 0, 0, 0.15);\n",
              "      filter: drop-shadow(0px 1px 2px rgba(0, 0, 0, 0.3));\n",
              "      fill: #FFFFFF;\n",
              "    }\n",
              "  </style>\n",
              "\n",
              "      <script>\n",
              "        const buttonEl =\n",
              "          document.querySelector('#df-0bb8f426-d6c3-40ef-8e26-533ee74cd1aa button.colab-df-convert');\n",
              "        buttonEl.style.display =\n",
              "          google.colab.kernel.accessAllowed ? 'block' : 'none';\n",
              "\n",
              "        async function convertToInteractive(key) {\n",
              "          const element = document.querySelector('#df-0bb8f426-d6c3-40ef-8e26-533ee74cd1aa');\n",
              "          const dataTable =\n",
              "            await google.colab.kernel.invokeFunction('convertToInteractive',\n",
              "                                                     [key], {});\n",
              "          if (!dataTable) return;\n",
              "\n",
              "          const docLinkHtml = 'Like what you see? Visit the ' +\n",
              "            '<a target=\"_blank\" href=https://colab.research.google.com/notebooks/data_table.ipynb>data table notebook</a>'\n",
              "            + ' to learn more about interactive tables.';\n",
              "          element.innerHTML = '';\n",
              "          dataTable['output_type'] = 'display_data';\n",
              "          await google.colab.output.renderOutput(dataTable, element);\n",
              "          const docLink = document.createElement('div');\n",
              "          docLink.innerHTML = docLinkHtml;\n",
              "          element.appendChild(docLink);\n",
              "        }\n",
              "      </script>\n",
              "    </div>\n",
              "  </div>\n",
              "  "
            ],
            "text/plain": [
              "  show_id     type  title           director  \\\n",
              "0      s1  TV Show     3%                NaN   \n",
              "1      s2    Movie   7:19  Jorge Michel Grau   \n",
              "2      s3    Movie  23:59       Gilbert Chan   \n",
              "3      s4    Movie      9        Shane Acker   \n",
              "4      s5    Movie     21     Robert Luketic   \n",
              "\n",
              "                                                cast        country  \\\n",
              "0  João Miguel, Bianca Comparato, Michel Gomes, R...         Brazil   \n",
              "1  Demián Bichir, Héctor Bonilla, Oscar Serrano, ...         Mexico   \n",
              "2  Tedd Chan, Stella Chung, Henley Hii, Lawrence ...      Singapore   \n",
              "3  Elijah Wood, John C. Reilly, Jennifer Connelly...  United States   \n",
              "4  Jim Sturgess, Kevin Spacey, Kate Bosworth, Aar...  United States   \n",
              "\n",
              "          date_added  release_year rating   duration  \\\n",
              "0    August 14, 2020          2020  TV-MA  4 Seasons   \n",
              "1  December 23, 2016          2016  TV-MA     93 min   \n",
              "2  December 20, 2018          2011      R     78 min   \n",
              "3  November 16, 2017          2009  PG-13     80 min   \n",
              "4    January 1, 2020          2008  PG-13    123 min   \n",
              "\n",
              "                                           listed_in  \\\n",
              "0  International TV Shows, TV Dramas, TV Sci-Fi &...   \n",
              "1                       Dramas, International Movies   \n",
              "2                Horror Movies, International Movies   \n",
              "3  Action & Adventure, Independent Movies, Sci-Fi...   \n",
              "4                                             Dramas   \n",
              "\n",
              "                                         description  \n",
              "0  In a future where the elite inhabit an island ...  \n",
              "1  After a devastating earthquake hits Mexico Cit...  \n",
              "2  When an army recruit is found dead, his fellow...  \n",
              "3  In a postapocalyptic world, rag-doll robots hi...  \n",
              "4  A brilliant group of students become card-coun...  "
            ]
          },
          "metadata": {},
          "execution_count": 4
        }
      ]
    },
    {
      "cell_type": "code",
      "source": [
        "#look for last rows\n",
        "df.tail()"
      ],
      "metadata": {
        "colab": {
          "base_uri": "https://localhost:8080/",
          "height": 545
        },
        "id": "MfR6nvhUtFsP",
        "outputId": "b6c43f63-afc6-4a7f-9556-ec037fd52cd8"
      },
      "execution_count": 5,
      "outputs": [
        {
          "output_type": "execute_result",
          "data": {
            "text/html": [
              "\n",
              "  <div id=\"df-978aea1a-17ef-4932-aa2b-29fcad58eb9a\">\n",
              "    <div class=\"colab-df-container\">\n",
              "      <div>\n",
              "<style scoped>\n",
              "    .dataframe tbody tr th:only-of-type {\n",
              "        vertical-align: middle;\n",
              "    }\n",
              "\n",
              "    .dataframe tbody tr th {\n",
              "        vertical-align: top;\n",
              "    }\n",
              "\n",
              "    .dataframe thead th {\n",
              "        text-align: right;\n",
              "    }\n",
              "</style>\n",
              "<table border=\"1\" class=\"dataframe\">\n",
              "  <thead>\n",
              "    <tr style=\"text-align: right;\">\n",
              "      <th></th>\n",
              "      <th>show_id</th>\n",
              "      <th>type</th>\n",
              "      <th>title</th>\n",
              "      <th>director</th>\n",
              "      <th>cast</th>\n",
              "      <th>country</th>\n",
              "      <th>date_added</th>\n",
              "      <th>release_year</th>\n",
              "      <th>rating</th>\n",
              "      <th>duration</th>\n",
              "      <th>listed_in</th>\n",
              "      <th>description</th>\n",
              "    </tr>\n",
              "  </thead>\n",
              "  <tbody>\n",
              "    <tr>\n",
              "      <th>7782</th>\n",
              "      <td>s7783</td>\n",
              "      <td>Movie</td>\n",
              "      <td>Zozo</td>\n",
              "      <td>Josef Fares</td>\n",
              "      <td>Imad Creidi, Antoinette Turk, Elias Gergi, Car...</td>\n",
              "      <td>Sweden, Czech Republic, United Kingdom, Denmar...</td>\n",
              "      <td>October 19, 2020</td>\n",
              "      <td>2005</td>\n",
              "      <td>TV-MA</td>\n",
              "      <td>99 min</td>\n",
              "      <td>Dramas, International Movies</td>\n",
              "      <td>When Lebanon's Civil War deprives Zozo of his ...</td>\n",
              "    </tr>\n",
              "    <tr>\n",
              "      <th>7783</th>\n",
              "      <td>s7784</td>\n",
              "      <td>Movie</td>\n",
              "      <td>Zubaan</td>\n",
              "      <td>Mozez Singh</td>\n",
              "      <td>Vicky Kaushal, Sarah-Jane Dias, Raaghav Chanan...</td>\n",
              "      <td>India</td>\n",
              "      <td>March 2, 2019</td>\n",
              "      <td>2015</td>\n",
              "      <td>TV-14</td>\n",
              "      <td>111 min</td>\n",
              "      <td>Dramas, International Movies, Music &amp; Musicals</td>\n",
              "      <td>A scrappy but poor boy worms his way into a ty...</td>\n",
              "    </tr>\n",
              "    <tr>\n",
              "      <th>7784</th>\n",
              "      <td>s7785</td>\n",
              "      <td>Movie</td>\n",
              "      <td>Zulu Man in Japan</td>\n",
              "      <td>NaN</td>\n",
              "      <td>Nasty C</td>\n",
              "      <td>NaN</td>\n",
              "      <td>September 25, 2020</td>\n",
              "      <td>2019</td>\n",
              "      <td>TV-MA</td>\n",
              "      <td>44 min</td>\n",
              "      <td>Documentaries, International Movies, Music &amp; M...</td>\n",
              "      <td>In this documentary, South African rapper Nast...</td>\n",
              "    </tr>\n",
              "    <tr>\n",
              "      <th>7785</th>\n",
              "      <td>s7786</td>\n",
              "      <td>TV Show</td>\n",
              "      <td>Zumbo's Just Desserts</td>\n",
              "      <td>NaN</td>\n",
              "      <td>Adriano Zumbo, Rachel Khoo</td>\n",
              "      <td>Australia</td>\n",
              "      <td>October 31, 2020</td>\n",
              "      <td>2019</td>\n",
              "      <td>TV-PG</td>\n",
              "      <td>1 Season</td>\n",
              "      <td>International TV Shows, Reality TV</td>\n",
              "      <td>Dessert wizard Adriano Zumbo looks for the nex...</td>\n",
              "    </tr>\n",
              "    <tr>\n",
              "      <th>7786</th>\n",
              "      <td>s7787</td>\n",
              "      <td>Movie</td>\n",
              "      <td>ZZ TOP: THAT LITTLE OL' BAND FROM TEXAS</td>\n",
              "      <td>Sam Dunn</td>\n",
              "      <td>NaN</td>\n",
              "      <td>United Kingdom, Canada, United States</td>\n",
              "      <td>March 1, 2020</td>\n",
              "      <td>2019</td>\n",
              "      <td>TV-MA</td>\n",
              "      <td>90 min</td>\n",
              "      <td>Documentaries, Music &amp; Musicals</td>\n",
              "      <td>This documentary delves into the mystique behi...</td>\n",
              "    </tr>\n",
              "  </tbody>\n",
              "</table>\n",
              "</div>\n",
              "      <button class=\"colab-df-convert\" onclick=\"convertToInteractive('df-978aea1a-17ef-4932-aa2b-29fcad58eb9a')\"\n",
              "              title=\"Convert this dataframe to an interactive table.\"\n",
              "              style=\"display:none;\">\n",
              "        \n",
              "  <svg xmlns=\"http://www.w3.org/2000/svg\" height=\"24px\"viewBox=\"0 0 24 24\"\n",
              "       width=\"24px\">\n",
              "    <path d=\"M0 0h24v24H0V0z\" fill=\"none\"/>\n",
              "    <path d=\"M18.56 5.44l.94 2.06.94-2.06 2.06-.94-2.06-.94-.94-2.06-.94 2.06-2.06.94zm-11 1L8.5 8.5l.94-2.06 2.06-.94-2.06-.94L8.5 2.5l-.94 2.06-2.06.94zm10 10l.94 2.06.94-2.06 2.06-.94-2.06-.94-.94-2.06-.94 2.06-2.06.94z\"/><path d=\"M17.41 7.96l-1.37-1.37c-.4-.4-.92-.59-1.43-.59-.52 0-1.04.2-1.43.59L10.3 9.45l-7.72 7.72c-.78.78-.78 2.05 0 2.83L4 21.41c.39.39.9.59 1.41.59.51 0 1.02-.2 1.41-.59l7.78-7.78 2.81-2.81c.8-.78.8-2.07 0-2.86zM5.41 20L4 18.59l7.72-7.72 1.47 1.35L5.41 20z\"/>\n",
              "  </svg>\n",
              "      </button>\n",
              "      \n",
              "  <style>\n",
              "    .colab-df-container {\n",
              "      display:flex;\n",
              "      flex-wrap:wrap;\n",
              "      gap: 12px;\n",
              "    }\n",
              "\n",
              "    .colab-df-convert {\n",
              "      background-color: #E8F0FE;\n",
              "      border: none;\n",
              "      border-radius: 50%;\n",
              "      cursor: pointer;\n",
              "      display: none;\n",
              "      fill: #1967D2;\n",
              "      height: 32px;\n",
              "      padding: 0 0 0 0;\n",
              "      width: 32px;\n",
              "    }\n",
              "\n",
              "    .colab-df-convert:hover {\n",
              "      background-color: #E2EBFA;\n",
              "      box-shadow: 0px 1px 2px rgba(60, 64, 67, 0.3), 0px 1px 3px 1px rgba(60, 64, 67, 0.15);\n",
              "      fill: #174EA6;\n",
              "    }\n",
              "\n",
              "    [theme=dark] .colab-df-convert {\n",
              "      background-color: #3B4455;\n",
              "      fill: #D2E3FC;\n",
              "    }\n",
              "\n",
              "    [theme=dark] .colab-df-convert:hover {\n",
              "      background-color: #434B5C;\n",
              "      box-shadow: 0px 1px 3px 1px rgba(0, 0, 0, 0.15);\n",
              "      filter: drop-shadow(0px 1px 2px rgba(0, 0, 0, 0.3));\n",
              "      fill: #FFFFFF;\n",
              "    }\n",
              "  </style>\n",
              "\n",
              "      <script>\n",
              "        const buttonEl =\n",
              "          document.querySelector('#df-978aea1a-17ef-4932-aa2b-29fcad58eb9a button.colab-df-convert');\n",
              "        buttonEl.style.display =\n",
              "          google.colab.kernel.accessAllowed ? 'block' : 'none';\n",
              "\n",
              "        async function convertToInteractive(key) {\n",
              "          const element = document.querySelector('#df-978aea1a-17ef-4932-aa2b-29fcad58eb9a');\n",
              "          const dataTable =\n",
              "            await google.colab.kernel.invokeFunction('convertToInteractive',\n",
              "                                                     [key], {});\n",
              "          if (!dataTable) return;\n",
              "\n",
              "          const docLinkHtml = 'Like what you see? Visit the ' +\n",
              "            '<a target=\"_blank\" href=https://colab.research.google.com/notebooks/data_table.ipynb>data table notebook</a>'\n",
              "            + ' to learn more about interactive tables.';\n",
              "          element.innerHTML = '';\n",
              "          dataTable['output_type'] = 'display_data';\n",
              "          await google.colab.output.renderOutput(dataTable, element);\n",
              "          const docLink = document.createElement('div');\n",
              "          docLink.innerHTML = docLinkHtml;\n",
              "          element.appendChild(docLink);\n",
              "        }\n",
              "      </script>\n",
              "    </div>\n",
              "  </div>\n",
              "  "
            ],
            "text/plain": [
              "     show_id     type                                    title     director  \\\n",
              "7782   s7783    Movie                                     Zozo  Josef Fares   \n",
              "7783   s7784    Movie                                   Zubaan  Mozez Singh   \n",
              "7784   s7785    Movie                        Zulu Man in Japan          NaN   \n",
              "7785   s7786  TV Show                    Zumbo's Just Desserts          NaN   \n",
              "7786   s7787    Movie  ZZ TOP: THAT LITTLE OL' BAND FROM TEXAS     Sam Dunn   \n",
              "\n",
              "                                                   cast  \\\n",
              "7782  Imad Creidi, Antoinette Turk, Elias Gergi, Car...   \n",
              "7783  Vicky Kaushal, Sarah-Jane Dias, Raaghav Chanan...   \n",
              "7784                                            Nasty C   \n",
              "7785                         Adriano Zumbo, Rachel Khoo   \n",
              "7786                                                NaN   \n",
              "\n",
              "                                                country          date_added  \\\n",
              "7782  Sweden, Czech Republic, United Kingdom, Denmar...    October 19, 2020   \n",
              "7783                                              India       March 2, 2019   \n",
              "7784                                                NaN  September 25, 2020   \n",
              "7785                                          Australia    October 31, 2020   \n",
              "7786              United Kingdom, Canada, United States       March 1, 2020   \n",
              "\n",
              "      release_year rating  duration  \\\n",
              "7782          2005  TV-MA    99 min   \n",
              "7783          2015  TV-14   111 min   \n",
              "7784          2019  TV-MA    44 min   \n",
              "7785          2019  TV-PG  1 Season   \n",
              "7786          2019  TV-MA    90 min   \n",
              "\n",
              "                                              listed_in  \\\n",
              "7782                       Dramas, International Movies   \n",
              "7783     Dramas, International Movies, Music & Musicals   \n",
              "7784  Documentaries, International Movies, Music & M...   \n",
              "7785                 International TV Shows, Reality TV   \n",
              "7786                    Documentaries, Music & Musicals   \n",
              "\n",
              "                                            description  \n",
              "7782  When Lebanon's Civil War deprives Zozo of his ...  \n",
              "7783  A scrappy but poor boy worms his way into a ty...  \n",
              "7784  In this documentary, South African rapper Nast...  \n",
              "7785  Dessert wizard Adriano Zumbo looks for the nex...  \n",
              "7786  This documentary delves into the mystique behi...  "
            ]
          },
          "metadata": {},
          "execution_count": 5
        }
      ]
    },
    {
      "cell_type": "code",
      "source": [
        "# looking for shape and size of dataset\n",
        "df.shape"
      ],
      "metadata": {
        "colab": {
          "base_uri": "https://localhost:8080/"
        },
        "id": "ZyURHN5ctK2h",
        "outputId": "fe0b1abe-dc36-4f25-c165-dc5b9a311ddd"
      },
      "execution_count": 6,
      "outputs": [
        {
          "output_type": "execute_result",
          "data": {
            "text/plain": [
              "(7787, 12)"
            ]
          },
          "metadata": {},
          "execution_count": 6
        }
      ]
    },
    {
      "cell_type": "markdown",
      "source": [
        "Dataset have 7787 rows and 12 features."
      ],
      "metadata": {
        "id": "_aGp5WoitQHD"
      }
    },
    {
      "cell_type": "code",
      "source": [
        "#looking for any duplicates in dataset\n",
        "len(df[df.duplicated()])"
      ],
      "metadata": {
        "colab": {
          "base_uri": "https://localhost:8080/"
        },
        "id": "geBHf1g-tXVX",
        "outputId": "a9b6e28d-299e-428d-c3ec-dc8dc41eacf7"
      },
      "execution_count": 7,
      "outputs": [
        {
          "output_type": "execute_result",
          "data": {
            "text/plain": [
              "0"
            ]
          },
          "metadata": {},
          "execution_count": 7
        }
      ]
    },
    {
      "cell_type": "markdown",
      "source": [
        "Do not have any duplicates in dataset."
      ],
      "metadata": {
        "id": "mdW8LadAtdJ4"
      }
    },
    {
      "cell_type": "markdown",
      "source": [
        "# Looking for null values in dataset"
      ],
      "metadata": {
        "id": "r6gT7e09tjBN"
      }
    },
    {
      "cell_type": "code",
      "source": [
        "#sum of all null values for each features\n",
        "df.isnull().sum()"
      ],
      "metadata": {
        "colab": {
          "base_uri": "https://localhost:8080/"
        },
        "id": "vO-xa612tklO",
        "outputId": "5c37fa7a-72f9-483c-fe9e-cda8698487d7"
      },
      "execution_count": 8,
      "outputs": [
        {
          "output_type": "execute_result",
          "data": {
            "text/plain": [
              "show_id            0\n",
              "type               0\n",
              "title              0\n",
              "director        2389\n",
              "cast             718\n",
              "country          507\n",
              "date_added        10\n",
              "release_year       0\n",
              "rating             7\n",
              "duration           0\n",
              "listed_in          0\n",
              "description        0\n",
              "dtype: int64"
            ]
          },
          "metadata": {},
          "execution_count": 8
        }
      ]
    },
    {
      "cell_type": "markdown",
      "source": [
        "Several features in dataset have null values.\n",
        "\n",
        "So to handel those null values in better way, lets look for percentage of null values in dataset."
      ],
      "metadata": {
        "id": "UnmDn51Xt4hV"
      }
    },
    {
      "cell_type": "code",
      "source": [
        "#percentage of all null values for each features\n",
        "df.isnull().sum()/df.shape[0]*100"
      ],
      "metadata": {
        "colab": {
          "base_uri": "https://localhost:8080/"
        },
        "id": "GpjmdEL2teG2",
        "outputId": "bcf2e4d4-0c01-4b96-8477-d59900ac0e4b"
      },
      "execution_count": 9,
      "outputs": [
        {
          "output_type": "execute_result",
          "data": {
            "text/plain": [
              "show_id          0.000000\n",
              "type             0.000000\n",
              "title            0.000000\n",
              "director        30.679337\n",
              "cast             9.220496\n",
              "country          6.510851\n",
              "date_added       0.128419\n",
              "release_year     0.000000\n",
              "rating           0.089893\n",
              "duration         0.000000\n",
              "listed_in        0.000000\n",
              "description      0.000000\n",
              "dtype: float64"
            ]
          },
          "metadata": {},
          "execution_count": 9
        }
      ]
    },
    {
      "cell_type": "markdown",
      "source": [
        "\n",
        "\n",
        "*   Director feature have more than 30% of null values.\n",
        "*   So droping feature director.\n",
        "\n"
      ],
      "metadata": {
        "id": "0irwrL1Tu4Nx"
      }
    },
    {
      "cell_type": "markdown",
      "source": [
        "\n",
        "\n",
        "*   Country feature have 6.51% of null values.\n",
        "*   Filling null values by mode of feature.\n",
        "\n"
      ],
      "metadata": {
        "id": "EpzLLfjTvCUg"
      }
    },
    {
      "cell_type": "markdown",
      "source": [
        "\n",
        "\n",
        "*   Cast feature have 9.22% of null values.\n",
        "*   Filling null values by 'missing', only for EDA purpose.\n",
        "\n"
      ],
      "metadata": {
        "id": "ervSVM2yvNaQ"
      }
    },
    {
      "cell_type": "markdown",
      "source": [
        "\n",
        "\n",
        "*   Rating feature have 0.09% of null values.\n",
        "*   Filling null values by mode of feature.\n",
        "\n"
      ],
      "metadata": {
        "id": "91tIUzY5vbbh"
      }
    },
    {
      "cell_type": "markdown",
      "source": [
        "\n",
        "\n",
        "*   Date_added feature have 0.12% of null values.\n",
        "*   Droping rows corresponding to this null values.\n",
        "\n"
      ],
      "metadata": {
        "id": "E8OWBvPQvmls"
      }
    },
    {
      "cell_type": "code",
      "source": [
        "df.drop('director', axis=1, inplace=True)\n",
        "df['country'].fillna(df['country'].mode()[0], inplace=True)\n",
        "df['rating'].fillna(df['rating'].mode()[0], inplace=True)\n",
        "df.dropna(subset=['date_added'], inplace=True)\n",
        "df['cast'].fillna('missing', inplace=True)"
      ],
      "metadata": {
        "id": "N72_760vv16F"
      },
      "execution_count": 10,
      "outputs": []
    },
    {
      "cell_type": "code",
      "source": [
        "#final check for null value\n",
        "df.isnull().sum()/df.shape[0]*100"
      ],
      "metadata": {
        "colab": {
          "base_uri": "https://localhost:8080/"
        },
        "id": "-5b1i896v-X_",
        "outputId": "ff17633c-dd95-4ac6-9602-b5924a63c251"
      },
      "execution_count": 11,
      "outputs": [
        {
          "output_type": "execute_result",
          "data": {
            "text/plain": [
              "show_id         0.0\n",
              "type            0.0\n",
              "title           0.0\n",
              "cast            0.0\n",
              "country         0.0\n",
              "date_added      0.0\n",
              "release_year    0.0\n",
              "rating          0.0\n",
              "duration        0.0\n",
              "listed_in       0.0\n",
              "description     0.0\n",
              "dtype: float64"
            ]
          },
          "metadata": {},
          "execution_count": 11
        }
      ]
    },
    {
      "cell_type": "markdown",
      "source": [
        "\n",
        "\n",
        "*   All the null values handeled and dataset is ready for next challenges.\n",
        "\n"
      ],
      "metadata": {
        "id": "RZ6he6g9wDy4"
      }
    },
    {
      "cell_type": "markdown",
      "source": [
        "# Looking for Data Types and Data Formats"
      ],
      "metadata": {
        "id": "tAmtFa-KwOSR"
      }
    },
    {
      "cell_type": "code",
      "source": [
        "# Information about all the features of dataset\n",
        "df.info()"
      ],
      "metadata": {
        "colab": {
          "base_uri": "https://localhost:8080/"
        },
        "id": "1ngcjdp6wQhL",
        "outputId": "eed11302-8c4c-4eab-994a-783f95cdae0d"
      },
      "execution_count": 12,
      "outputs": [
        {
          "output_type": "stream",
          "name": "stdout",
          "text": [
            "<class 'pandas.core.frame.DataFrame'>\n",
            "Int64Index: 7777 entries, 0 to 7786\n",
            "Data columns (total 11 columns):\n",
            " #   Column        Non-Null Count  Dtype \n",
            "---  ------        --------------  ----- \n",
            " 0   show_id       7777 non-null   object\n",
            " 1   type          7777 non-null   object\n",
            " 2   title         7777 non-null   object\n",
            " 3   cast          7777 non-null   object\n",
            " 4   country       7777 non-null   object\n",
            " 5   date_added    7777 non-null   object\n",
            " 6   release_year  7777 non-null   int64 \n",
            " 7   rating        7777 non-null   object\n",
            " 8   duration      7777 non-null   object\n",
            " 9   listed_in     7777 non-null   object\n",
            " 10  description   7777 non-null   object\n",
            "dtypes: int64(1), object(10)\n",
            "memory usage: 729.1+ KB\n"
          ]
        }
      ]
    },
    {
      "cell_type": "markdown",
      "source": [
        "\n",
        "\n",
        ".   Date_added feature have object datatype.\n",
        "\n",
        ".   Converting to datetime datatype from object datatype.\n",
        "\n",
        "\n"
      ],
      "metadata": {
        "id": "HdPsTa-lwaHh"
      }
    },
    {
      "cell_type": "code",
      "source": [
        "df['date_added'] = pd.to_datetime(df['date_added'])"
      ],
      "metadata": {
        "id": "lPiEHkIHwrcN"
      },
      "execution_count": 13,
      "outputs": []
    },
    {
      "cell_type": "markdown",
      "source": [
        "\n",
        "\n",
        "*   Duration feature have object datatype.\n",
        "*   Converting to int datatype from object datatype.\n",
        "\n"
      ],
      "metadata": {
        "id": "asA-1dAuxCE5"
      }
    },
    {
      "cell_type": "code",
      "source": [
        "df['duration']"
      ],
      "metadata": {
        "colab": {
          "base_uri": "https://localhost:8080/"
        },
        "id": "dF8XvIYTwJ7p",
        "outputId": "4a109864-0156-4812-f2c7-47909e524d1d"
      },
      "execution_count": 14,
      "outputs": [
        {
          "output_type": "execute_result",
          "data": {
            "text/plain": [
              "0       4 Seasons\n",
              "1          93 min\n",
              "2          78 min\n",
              "3          80 min\n",
              "4         123 min\n",
              "          ...    \n",
              "7782       99 min\n",
              "7783      111 min\n",
              "7784       44 min\n",
              "7785     1 Season\n",
              "7786       90 min\n",
              "Name: duration, Length: 7777, dtype: object"
            ]
          },
          "metadata": {},
          "execution_count": 14
        }
      ]
    },
    {
      "cell_type": "markdown",
      "source": [
        "\n",
        "\n",
        "*   Duration are in combination of int values and string.\n",
        "*   Removing string part so as to get int datatype.\n",
        "\n"
      ],
      "metadata": {
        "id": "wN0omNOZxZUJ"
      }
    },
    {
      "cell_type": "code",
      "source": [
        "#spliting each values by space and selecting int part at zeroth index\n",
        "df['duration'] = df['duration'].apply(lambda x : x.split(\" \")[0])"
      ],
      "metadata": {
        "id": "0wcOawCxxhQg"
      },
      "execution_count": 15,
      "outputs": []
    },
    {
      "cell_type": "code",
      "source": [
        "#check for updated duration values\n",
        "df['duration']"
      ],
      "metadata": {
        "colab": {
          "base_uri": "https://localhost:8080/"
        },
        "id": "AjU0rX1pxnp1",
        "outputId": "dc677984-63f9-4a29-90b3-652ead521014"
      },
      "execution_count": 16,
      "outputs": [
        {
          "output_type": "execute_result",
          "data": {
            "text/plain": [
              "0         4\n",
              "1        93\n",
              "2        78\n",
              "3        80\n",
              "4       123\n",
              "       ... \n",
              "7782     99\n",
              "7783    111\n",
              "7784     44\n",
              "7785      1\n",
              "7786     90\n",
              "Name: duration, Length: 7777, dtype: object"
            ]
          },
          "metadata": {},
          "execution_count": 16
        }
      ]
    },
    {
      "cell_type": "code",
      "source": [
        "df.info()"
      ],
      "metadata": {
        "colab": {
          "base_uri": "https://localhost:8080/"
        },
        "id": "LNdGQIN-xsZ1",
        "outputId": "c66206cf-90ef-4d52-de09-6ed9713f4d27"
      },
      "execution_count": 17,
      "outputs": [
        {
          "output_type": "stream",
          "name": "stdout",
          "text": [
            "<class 'pandas.core.frame.DataFrame'>\n",
            "Int64Index: 7777 entries, 0 to 7786\n",
            "Data columns (total 11 columns):\n",
            " #   Column        Non-Null Count  Dtype         \n",
            "---  ------        --------------  -----         \n",
            " 0   show_id       7777 non-null   object        \n",
            " 1   type          7777 non-null   object        \n",
            " 2   title         7777 non-null   object        \n",
            " 3   cast          7777 non-null   object        \n",
            " 4   country       7777 non-null   object        \n",
            " 5   date_added    7777 non-null   datetime64[ns]\n",
            " 6   release_year  7777 non-null   int64         \n",
            " 7   rating        7777 non-null   object        \n",
            " 8   duration      7777 non-null   object        \n",
            " 9   listed_in     7777 non-null   object        \n",
            " 10  description   7777 non-null   object        \n",
            "dtypes: datetime64[ns](1), int64(1), object(9)\n",
            "memory usage: 729.1+ KB\n"
          ]
        }
      ]
    },
    {
      "cell_type": "markdown",
      "source": [
        "Now all the features and thier values are in required datatypes and formats."
      ],
      "metadata": {
        "id": "gRfdLKyQxxD3"
      }
    },
    {
      "cell_type": "code",
      "source": [
        "# setting limits for display of rows and columns for better understanding\n",
        "pd.set_option('display.max_rows', 200)\n",
        "pd.set_option('display.max_columns', 200)"
      ],
      "metadata": {
        "id": "uxsAz0M7xzMl"
      },
      "execution_count": 18,
      "outputs": []
    },
    {
      "cell_type": "markdown",
      "source": [
        "**Creating some new features from existing features to understand data better.**"
      ],
      "metadata": {
        "id": "kxgPeF10x7pN"
      }
    },
    {
      "cell_type": "code",
      "source": [
        "# add new features from date feature\n",
        "df['year_added'] = df['date_added'].dt.year\n",
        "df['month_added'] = df['date_added'].dt.month\n",
        "df['day_added'] = df['date_added'].dt.day"
      ],
      "metadata": {
        "id": "OLrSJxbmyIf5"
      },
      "execution_count": 19,
      "outputs": []
    },
    {
      "cell_type": "code",
      "source": [
        "#Check for final dataset shape\n",
        "df.shape"
      ],
      "metadata": {
        "colab": {
          "base_uri": "https://localhost:8080/"
        },
        "id": "jiBpCwCmyMoB",
        "outputId": "0cd4242b-f7b4-4ca7-9b0a-bcdb24558abb"
      },
      "execution_count": 20,
      "outputs": [
        {
          "output_type": "execute_result",
          "data": {
            "text/plain": [
              "(7777, 14)"
            ]
          },
          "metadata": {},
          "execution_count": 20
        }
      ]
    },
    {
      "cell_type": "markdown",
      "source": [
        "# **EDA on Netflix Data in Netflix Style**"
      ],
      "metadata": {
        "id": "_LSvcu6GyT7J"
      }
    },
    {
      "cell_type": "markdown",
      "source": [
        "**Movies Vs. TV**"
      ],
      "metadata": {
        "id": "0g6sh70IybYR"
      }
    },
    {
      "cell_type": "markdown",
      "source": [
        "This dataset contains data about movies and TV shows which were added on netflix."
      ],
      "metadata": {
        "id": "qms8WVbnyXFJ"
      }
    },
    {
      "cell_type": "markdown",
      "source": [
        "**Lets look at dominance between Movies and TV Shows.**"
      ],
      "metadata": {
        "id": "sXqTCdyYy1lF"
      }
    },
    {
      "cell_type": "code",
      "source": [
        "# Pie chart showing percentage of toal movies and TV shows.\n",
        "# Choose this facecolor so as to give style of netflix\n",
        "fig, ax = plt.subplots(figsize=(5,5),facecolor=\"#363336\")\n",
        "ax.patch.set_facecolor('#363336')\n",
        "explode = (0, 0.1)\n",
        "ax.pie(df['type'].value_counts(), explode=explode, autopct='%.2f%%', labels= ['Movie', 'TV Show'],shadow=True,\n",
        "       startangle=90,textprops={'color':\"black\", 'fontsize': 20}, colors =['red','#F5E9F5'])"
      ],
      "metadata": {
        "colab": {
          "base_uri": "https://localhost:8080/",
          "height": 413
        },
        "id": "BCzjOgSGyx2U",
        "outputId": "48230721-8093-4e67-ee61-6a2d1306682c"
      },
      "execution_count": 21,
      "outputs": [
        {
          "output_type": "execute_result",
          "data": {
            "text/plain": [
              "([<matplotlib.patches.Wedge at 0x7fbf74c52e90>,\n",
              "  <matplotlib.patches.Wedge at 0x7fbf74c64950>],\n",
              " [Text(-0.9070648963562528, -0.6222807033792873, 'Movie'),\n",
              "  Text(0.9895252779208632, 0.6788517690598137, 'TV Show')],\n",
              " [Text(-0.4947626707397742, -0.339425838206884, '69.14%'),\n",
              "  Text(0.5772230787871702, 0.39599686528489125, '30.86%')])"
            ]
          },
          "metadata": {},
          "execution_count": 21
        },
        {
          "output_type": "display_data",
          "data": {
            "image/png": "[encoded data removed]",
            "text/plain": [
              "<Figure size 360x360 with 1 Axes>"
            ]
          },
          "metadata": {}
        }
      ]
    },
    {
      "cell_type": "markdown",
      "source": [
        "\n",
        "\n",
        "*   Movies uploaded on Netflix are more than twice the TV Shows uploaded.\n",
        "*   This dose not implies that movies are more indulging that of TV Shows.\n",
        "*   Beacuase TV shows may have several seasons which consits of number of    episodes.\n",
        "*   Duration of TV shows are much more that of movies.\n",
        "\n",
        "\n",
        "\n"
      ],
      "metadata": {
        "id": "ATy5sLCXO7uS"
      }
    },
    {
      "cell_type": "markdown",
      "source": [
        "# Number of Movies and TV Shows added on netflix."
      ],
      "metadata": {
        "id": "q4cGVbyYPqKY"
      }
    },
    {
      "cell_type": "markdown",
      "source": [
        "*On Year Basis*"
      ],
      "metadata": {
        "id": "X2V2iX_yPywM"
      }
    },
    {
      "cell_type": "code",
      "source": [
        "fig, ax = plt.subplots(figsize=(15,6),facecolor=\"#363336\")\n",
        "ax.patch.set_facecolor('#363336')\n",
        "sns.countplot(x='year_added', hue='type',lw=5, color='red', data=df, ax=ax)\n",
        "ax.tick_params(axis='x', colors='#F5E9F5',labelsize=15) \n",
        "ax.tick_params(axis='y', colors='#F5E9F5',labelsize=15)\n",
        "ax.set_xlabel(\"Years\", color='#F5E9F5', fontsize=20)\n",
        "ax.set_ylabel(\"Counts\",  color='#F5E9F5', fontsize=20)\n",
        "ax.set_title(\"Yearwise Movies & TV Shows\", color='#F5E9F5', fontsize=30)\n",
        "ax.spines['right'].set_visible(False)\n",
        "ax.spines['top'].set_visible(False)\n",
        "ax.spines['left'].set_visible(True)"
      ],
      "metadata": {
        "colab": {
          "base_uri": "https://localhost:8080/",
          "height": 431
        },
        "id": "MnBy0eVrP4Dc",
        "outputId": "cfad8025-201c-4d26-fe42-801defe95414"
      },
      "execution_count": 22,
      "outputs": [
        {
          "output_type": "display_data",
          "data": {
            "image/png": "[encoded data removed]",
            "text/plain": [
              "<Figure size 1080x432 with 1 Axes>"
            ]
          },
          "metadata": {}
        }
      ]
    },
    {
      "cell_type": "markdown",
      "source": [
        "\n",
        "\n",
        "*   TV shows are incresing continuosly.\n",
        "*   Movies were incresing continuosly but after 2019 there is fall.\n",
        "\n"
      ],
      "metadata": {
        "id": "r-gA_yWeQE_r"
      }
    },
    {
      "cell_type": "markdown",
      "source": [
        "*On Month Basis*"
      ],
      "metadata": {
        "id": "_qqkARp8QL4c"
      }
    },
    {
      "cell_type": "code",
      "source": [
        "fig, ax = plt.subplots(figsize=(15,6),facecolor=\"#363336\")\n",
        "ax.patch.set_facecolor('#363336')\n",
        "sns.countplot(x='month_added', hue='type',lw=5, color='red', data=df, ax=ax)\n",
        "ax.tick_params(axis='x', colors='#F5E9F5',labelsize=15) \n",
        "ax.tick_params(axis='y', colors='#F5E9F5',labelsize=15)\n",
        "ax.set_xlabel(\"Months\", color='#F5E9F5', fontsize=20)\n",
        "ax.set_ylabel(\"Counts\",  color='#F5E9F5', fontsize=20)\n",
        "ax.set_title(\"Monthwise Movies & TV Shows\", color='#F5E9F5', fontsize=30)\n",
        "ax.spines['right'].set_visible(False)\n",
        "ax.spines['top'].set_visible(False)\n",
        "ax.spines['left'].set_visible(True)"
      ],
      "metadata": {
        "colab": {
          "base_uri": "https://localhost:8080/",
          "height": 431
        },
        "id": "FXH4yfneQRm8",
        "outputId": "2318f0da-db4d-4c20-9383-2a1ff5278923"
      },
      "execution_count": 23,
      "outputs": [
        {
          "output_type": "display_data",
          "data": {
            "image/png": "[encoded data removed]",
            "text/plain": [
              "<Figure size 1080x432 with 1 Axes>"
            ]
          },
          "metadata": {}
        }
      ]
    },
    {
      "cell_type": "markdown",
      "source": [
        "\n",
        "\n",
        "*   From Octomber to January, maximum number of movies and TV shows were added.\n",
        "*   Possible reason for that is, during this period of time events such as Christmas, New Year and several holidays takes place.\n",
        "\n"
      ],
      "metadata": {
        "id": "atLs3AWsQZEv"
      }
    },
    {
      "cell_type": "markdown",
      "source": [
        "*On Day Basis*"
      ],
      "metadata": {
        "id": "IFoZMGjYQin_"
      }
    },
    {
      "cell_type": "code",
      "source": [
        "fig, ax = plt.subplots(figsize=(15,6),facecolor=\"#363336\")\n",
        "ax.patch.set_facecolor('#363336')\n",
        "sns.countplot(x='day_added', hue='type',lw=5, color='red', data=df, ax=ax)\n",
        "ax.tick_params(axis='x', colors='#F5E9F5',labelsize=15) \n",
        "ax.tick_params(axis='y', colors='#F5E9F5',labelsize=15)\n",
        "ax.set_xlabel(\"Days\", color='#F5E9F5', fontsize=20)\n",
        "ax.set_ylabel(\"Counts\",  color='#F5E9F5', fontsize=20)\n",
        "ax.set_title(\"Daywise Movies & TV Shows\", color='#F5E9F5', fontsize=30)\n",
        "ax.spines['right'].set_visible(False)\n",
        "ax.spines['top'].set_visible(False)\n",
        "ax.spines['left'].set_visible(True)"
      ],
      "metadata": {
        "colab": {
          "base_uri": "https://localhost:8080/",
          "height": 431
        },
        "id": "dgs4XQMaQgPr",
        "outputId": "245b2c22-523d-442f-f6d0-788543e07ed6"
      },
      "execution_count": 24,
      "outputs": [
        {
          "output_type": "display_data",
          "data": {
            "image/png": "[encoded data removed]",
            "text/plain": [
              "<Figure size 1080x432 with 1 Axes>"
            ]
          },
          "metadata": {}
        }
      ]
    },
    {
      "cell_type": "markdown",
      "source": [
        "\n",
        "\n",
        "*   Maximum number of movies and TV shows were either on start of the month or mid of the month.\n",
        "\n"
      ],
      "metadata": {
        "id": "y58PLerLQu4D"
      }
    },
    {
      "cell_type": "markdown",
      "source": [
        "**Wordwide Presence of Netflix**"
      ],
      "metadata": {
        "id": "6jCgxQAnQ2Fr"
      }
    },
    {
      "cell_type": "markdown",
      "source": [
        "\n",
        "\n",
        "*   Popularity Netflix is all over the world.\n",
        "*   Lets look for its highest presence over countries.\n",
        "\n"
      ],
      "metadata": {
        "id": "u2avuh3DQ7Q8"
      }
    },
    {
      "cell_type": "markdown",
      "source": [
        "*Top 10 Countries having maximum Movies and TV Shows*"
      ],
      "metadata": {
        "id": "44P4sXhIRFec"
      }
    },
    {
      "cell_type": "code",
      "source": [
        "fig, ax = plt.subplots(figsize=(12,5),facecolor=\"#363336\")\n",
        "ax.patch.set_facecolor('#363336')\n",
        "(df['country'].value_counts().sort_values()/df.shape[0]*100)[-10:].plot(kind='barh', ax=ax,color ='red',alpha=0.8)\n",
        "ax.tick_params(axis= 'x', colors='#F5E9F5',labelsize=15) \n",
        "ax.tick_params(axis='y', colors='#F5E9F5',labelsize=15)\n",
        "ax.set_xlabel(\"Percentage\", color='#F5E9F5', fontsize=20)\n",
        "ax.set_title(\"Top 10 Countries\", color='#F5E9F5', fontsize=30)\n",
        "ax.spines['right'].set_visible(False)\n",
        "ax.spines['top'].set_visible(False)\n",
        "ax.spines['left'].set_visible(False)"
      ],
      "metadata": {
        "colab": {
          "base_uri": "https://localhost:8080/",
          "height": 377
        },
        "id": "zEtbZ2IkRHky",
        "outputId": "4ec65b8f-9c97-49ac-a423-50871b2e84a3"
      },
      "execution_count": 25,
      "outputs": [
        {
          "output_type": "display_data",
          "data": {
            "image/png": "[encoded data removed]",
            "text/plain": [
              "<Figure size 864x360 with 1 Axes>"
            ]
          },
          "metadata": {}
        }
      ]
    },
    {
      "cell_type": "markdown",
      "source": [
        "\n",
        "\n",
        "*   Unites State tops the in list of maximum number of movies and TV shows.\n",
        "*   Followed by India, UK and Japan.\n",
        "\n"
      ],
      "metadata": {
        "id": "vNa6DMYIRVet"
      }
    },
    {
      "cell_type": "markdown",
      "source": [
        "**Ratings on Movies and TV Shows**"
      ],
      "metadata": {
        "id": "wPlJ-8W3Rgwf"
      }
    },
    {
      "cell_type": "markdown",
      "source": [
        "For Movies:\n",
        "\n",
        "*   G: Kids\n",
        "*   PG: Older Kids (7+)\n",
        "*   PG-13: Teens (13+)\n",
        "*   NC-17, NR, R, Unrated: Adults (18+)\n",
        "\n",
        "For TV Shows:\n",
        "\n",
        "\n",
        "*   TV-G, TV-Y: Kids\n",
        "*   TV-Y7/FV/PG: Older Kids (7+)\n",
        "*   TV-14: Young Adults (16+)\n",
        "*   TV-MA: Adults (18+)\n",
        "\n",
        "\n",
        "\n",
        "\n",
        "\n",
        "\n",
        "\n",
        "\n"
      ],
      "metadata": {
        "id": "0v4cT6Y-RnL3"
      }
    },
    {
      "cell_type": "code",
      "source": [
        "fig, ax = plt.subplots(figsize=(15,6),facecolor=\"#363336\")\n",
        "ax.patch.set_facecolor('#363336')\n",
        "sns.countplot(x='rating', hue='type',lw=5, color='red', data=df, ax=ax)\n",
        "ax.tick_params(axis='x', colors='#F5E9F5',labelsize=15) \n",
        "ax.tick_params(axis='y', colors='#F5E9F5',labelsize=15)\n",
        "ax.set_xlabel(\"Ratings\", color='#F5E9F5', fontsize=20)\n",
        "ax.set_ylabel(\"Counts\",  color='#F5E9F5', fontsize=20)\n",
        "ax.set_title(\"Ratings: Movies & TV Shows\", color='#F5E9F5', fontsize=30)\n",
        "ax.spines['right'].set_visible(False)\n",
        "ax.spines['top'].set_visible(False)\n",
        "ax.spines['left'].set_visible(True)"
      ],
      "metadata": {
        "colab": {
          "base_uri": "https://localhost:8080/",
          "height": 431
        },
        "id": "h3cTBLT7S3AG",
        "outputId": "4d053325-7ded-45ff-a973-4985a4a78bdc"
      },
      "execution_count": 26,
      "outputs": [
        {
          "output_type": "display_data",
          "data": {
            "image/png": "[encoded data removed]",
            "text/plain": [
              "<Figure size 1080x432 with 1 Axes>"
            ]
          },
          "metadata": {}
        }
      ]
    },
    {
      "cell_type": "markdown",
      "source": [
        "\n",
        "\n",
        "*   Maximum of the movies as well as TV shows are for matures only.\n",
        "\n"
      ],
      "metadata": {
        "id": "SPjX6xyRTC8d"
      }
    },
    {
      "cell_type": "markdown",
      "source": [
        "**Top 10 Cast Involved either in Movies or TV Shows**"
      ],
      "metadata": {
        "id": "8VjIF-ZGTKNj"
      }
    },
    {
      "cell_type": "code",
      "source": [
        "# just take look at values of cast\n",
        "df['cast'][1]"
      ],
      "metadata": {
        "id": "fBQ96vFNTTdK",
        "colab": {
          "base_uri": "https://localhost:8080/",
          "height": 35
        },
        "outputId": "9ea435da-b9ed-4622-f255-ec0184daa0b5"
      },
      "execution_count": 27,
      "outputs": [
        {
          "output_type": "execute_result",
          "data": {
            "application/vnd.google.colaboratory.intrinsic+json": {
              "type": "string"
            },
            "text/plain": [
              "'Demián Bichir, Héctor Bonilla, Oscar Serrano, Azalia Ortiz, Octavio Michel, Carmen Beato'"
            ]
          },
          "metadata": {},
          "execution_count": 27
        }
      ]
    },
    {
      "cell_type": "code",
      "source": [
        "# list of cast by making split by comma\n",
        "df['cast'] = df['cast'].apply(lambda x :  x.split(', '))"
      ],
      "metadata": {
        "id": "Ijxb0f3uxtGC"
      },
      "execution_count": 28,
      "outputs": []
    },
    {
      "cell_type": "code",
      "source": [
        "# making list which contains all the entries from rows\n",
        "cast_list = []\n",
        "for i in df['cast']:\n",
        "  cast_list += i\n",
        "\n",
        "# unique cast    \n",
        "unique_cast = set(cast_list)\n",
        "\n",
        "# create dictionary to save cast and their counts\n",
        "cast_dict = dict((i, cast_list.count(i)) for i in unique_cast)\n",
        "\n",
        "# create dataframe from above dictionary\n",
        "cast_df = pd.DataFrame.from_dict(cast_dict, orient='index',\n",
        "                       columns=['Counts']).sort_values('Counts',ascending=True).reset_index().rename(columns = {'index' : 'cast'})"
      ],
      "metadata": {
        "id": "HX9BKi45xxeW"
      },
      "execution_count": 29,
      "outputs": []
    },
    {
      "cell_type": "code",
      "source": [
        "# plot of top 10 cast involved either movies or tv shows\n",
        "fig, ax = plt.subplots(figsize=(10,5),facecolor=\"#363336\")\n",
        "ax.patch.set_facecolor('#363336')\n",
        "ax.barh(y=cast_df['cast'][-11:-1], width = cast_df['Counts'][-11:-1], height=0.4, color = 'red',alpha=0.8)\n",
        "ax.tick_params(axis= 'x', colors='#F5E9F5',labelsize=15) \n",
        "ax.tick_params(axis='y', colors='#F5E9F5',labelsize=15)\n",
        "ax.set_xlabel(\"Number of movies\", color='#F5E9F5', fontsize=20)\n",
        "ax.set_title(\"Top 10 Cast\", color='#F5E9F5', fontsize=30)\n",
        "ax.spines['right'].set_visible(False)\n",
        "ax.spines['top'].set_visible(False)\n",
        "ax.spines['left'].set_visible(True)"
      ],
      "metadata": {
        "colab": {
          "base_uri": "https://localhost:8080/",
          "height": 377
        },
        "id": "YVMVsG07x3he",
        "outputId": "a5faf04a-a809-40e8-a1af-4111aa3d80d0"
      },
      "execution_count": 30,
      "outputs": [
        {
          "output_type": "display_data",
          "data": {
            "image/png": "[encoded data removed]",
            "text/plain": [
              "<Figure size 720x360 with 1 Axes>"
            ]
          },
          "metadata": {}
        }
      ]
    },
    {
      "cell_type": "markdown",
      "source": [
        "*   Anupam Kher have maximum number of movies or TV shows.\n",
        "\n"
      ],
      "metadata": {
        "id": "LtVo-_iuyCeA"
      }
    },
    {
      "cell_type": "markdown",
      "source": [
        "### ***Seperate Dataframes for Movies and TV Shows***"
      ],
      "metadata": {
        "id": "0v470aGkyKwD"
      }
    },
    {
      "cell_type": "code",
      "source": [
        "# All the movies and TV shows in different dataframe\n",
        "movies_df = df[df['type']=='Movie']\n",
        "tv_df = df[df['type']=='TV Show']"
      ],
      "metadata": {
        "id": "Ke3wIGlnyUjm"
      },
      "execution_count": 31,
      "outputs": []
    },
    {
      "cell_type": "markdown",
      "source": [
        "Running Time of Movies"
      ],
      "metadata": {
        "id": "fQGZgfHCyaIS"
      }
    },
    {
      "cell_type": "code",
      "source": [
        "fig, ax = plt.subplots(figsize=(20,7),facecolor=\"#363336\")\n",
        "ax.patch.set_facecolor('#363336')\n",
        "sns.distplot(movies_df['duration'], hist=True, bins=60,color='red', ax=ax)\n",
        "ax.tick_params(axis= 'x', colors='#F5E9F5',labelsize=15) \n",
        "ax.tick_params(axis='y', colors='#F5E9F5',labelsize=15)\n",
        "ax.set_xlabel(\"Duration\", color='#F5E9F5', fontsize=20)\n",
        "ax.set_ylabel(\"Density\", color='#F5E9F5', fontsize=20)\n",
        "ax.set_title(\"Running Time of Movies\", color='#F5E9F5', fontsize=30)\n",
        "ax.spines['right'].set_visible(False)\n",
        "ax.spines['top'].set_visible(False)\n",
        "ax.spines['left'].set_visible(True)"
      ],
      "metadata": {
        "colab": {
          "base_uri": "https://localhost:8080/",
          "height": 453
        },
        "id": "FqUxwdpIybV2",
        "outputId": "ff953798-50e7-4515-d918-aefe4d98f588"
      },
      "execution_count": 32,
      "outputs": [
        {
          "output_type": "display_data",
          "data": {
            "image/png": "[encoded data removed]",
            "text/plain": [
              "<Figure size 1440x504 with 1 Axes>"
            ]
          },
          "metadata": {}
        }
      ]
    },
    {
      "cell_type": "markdown",
      "source": [
        "Majority of movies have running time of between 50 to 150 min."
      ],
      "metadata": {
        "id": "26RXuLX-yjND"
      }
    },
    {
      "cell_type": "markdown",
      "source": [
        "**Seasons of TV Shows**"
      ],
      "metadata": {
        "id": "YWQrsLQAypH8"
      }
    },
    {
      "cell_type": "code",
      "source": [
        "fig, ax = plt.subplots(figsize=(8,5),facecolor=\"#363336\")\n",
        "ax.patch.set_facecolor('#363336')\n",
        "(tv_df['duration'].value_counts().sort_values()/tv_df.shape[0]*100)[-10:].plot(kind='barh', ax=ax,color ='red',alpha=0.5)\n",
        "ax.tick_params(axis='x', colors='#F5E9F5',labelsize=15) \n",
        "ax.tick_params(axis='y', colors='#F5E9F5',labelsize=15)\n",
        "ax.set_xlabel(\"Percentage\", color='#F5E9F5', fontsize=20)\n",
        "ax.set_ylabel(\"Number of Seasons\", color='#F5E9F5', fontsize=20)\n",
        "ax.set_title(\"TV Shows Seasons\", color='#F5E9F5', fontsize=30)\n",
        "ax.spines['right'].set_visible(False)\n",
        "ax.spines['top'].set_visible(False)\n",
        "ax.spines['left'].set_visible(True)"
      ],
      "metadata": {
        "colab": {
          "base_uri": "https://localhost:8080/",
          "height": 377
        },
        "id": "9keMo-I6yyTm",
        "outputId": "6478a609-f56e-40a8-aec7-16a2445d8a6a"
      },
      "execution_count": 33,
      "outputs": [
        {
          "output_type": "display_data",
          "data": {
            "image/png": "[encoded data removed]",
            "text/plain": [
              "<Figure size 576x360 with 1 Axes>"
            ]
          },
          "metadata": {}
        }
      ]
    },
    {
      "cell_type": "markdown",
      "source": [
        "Almost 68% of TV shows consist of single season only."
      ],
      "metadata": {
        "id": "n4a7xV-Py7ga"
      }
    },
    {
      "cell_type": "markdown",
      "source": [
        "**Top Genres in Movies & TV Shows**"
      ],
      "metadata": {
        "id": "EQRsNL-Hy-HJ"
      }
    },
    {
      "cell_type": "code",
      "source": [
        "# list of genres by making split by comma\n",
        "movies_df['listed_in'] = movies_df['listed_in'].apply(lambda x :  x.split(','))\n",
        "tv_df['listed_in'] = tv_df['listed_in'].apply(lambda x :  x.split(','))"
      ],
      "metadata": {
        "id": "7bwoDaLHzHrF"
      },
      "execution_count": 34,
      "outputs": []
    },
    {
      "cell_type": "code",
      "source": [
        "# creating list having all the genres in dataset\n",
        "movie_genre_list = []\n",
        "for i in movies_df['listed_in']:\n",
        "  movie_genre_list += i\n",
        "\n",
        "tv_genre_list = []\n",
        "for i in tv_df['listed_in']:\n",
        "  tv_genre_list += i"
      ],
      "metadata": {
        "id": "5r4U9x4MzMBj"
      },
      "execution_count": 35,
      "outputs": []
    },
    {
      "cell_type": "code",
      "source": [
        "# to make dictionary out of list of genres\n",
        "from collections import Counter"
      ],
      "metadata": {
        "id": "sfT52IovzPQU"
      },
      "execution_count": 36,
      "outputs": []
    },
    {
      "cell_type": "code",
      "source": [
        "# creating dataframe for genres in movies and TV shows\n",
        "movie_genre_list = Counter(movie_genre_list)\n",
        "tv_genre_list = Counter(tv_genre_list)\n",
        "\n",
        "movie_genre_df = pd.DataFrame(movie_genre_list.items())\n",
        "TV_genre_df = pd.DataFrame(tv_genre_list.items())\n",
        "\n",
        "movie_genre_df.columns = ['genre','movie_count']\n",
        "TV_genre_df.columns = ['genre','tv_count']\n",
        "\n",
        "movie_genre_df = movie_genre_df.sort_values(by= 'movie_count').reset_index(drop=True)\n",
        "TV_genre_df = TV_genre_df.sort_values(by= 'tv_count').reset_index(drop=True)"
      ],
      "metadata": {
        "id": "hHwPqI6ezTc0"
      },
      "execution_count": 37,
      "outputs": []
    },
    {
      "cell_type": "code",
      "source": [
        "# first look of movie genres dataframe\n",
        "movie_genre_df"
      ],
      "metadata": {
        "colab": {
          "base_uri": "https://localhost:8080/",
          "height": 1000
        },
        "id": "T-uh3uRazWbN",
        "outputId": "0a075b39-ae6d-4db8-d243-15c8512ebf3c"
      },
      "execution_count": 38,
      "outputs": [
        {
          "output_type": "execute_result",
          "data": {
            "text/html": [
              "\n",
              "  <div id=\"df-cda90670-b2a2-4d75-848a-af7cea3b807c\">\n",
              "    <div class=\"colab-df-container\">\n",
              "      <div>\n",
              "<style scoped>\n",
              "    .dataframe tbody tr th:only-of-type {\n",
              "        vertical-align: middle;\n",
              "    }\n",
              "\n",
              "    .dataframe tbody tr th {\n",
              "        vertical-align: top;\n",
              "    }\n",
              "\n",
              "    .dataframe thead th {\n",
              "        text-align: right;\n",
              "    }\n",
              "</style>\n",
              "<table border=\"1\" class=\"dataframe\">\n",
              "  <thead>\n",
              "    <tr style=\"text-align: right;\">\n",
              "      <th></th>\n",
              "      <th>genre</th>\n",
              "      <th>movie_count</th>\n",
              "    </tr>\n",
              "  </thead>\n",
              "  <tbody>\n",
              "    <tr>\n",
              "      <th>0</th>\n",
              "      <td>LGBTQ Movies</td>\n",
              "      <td>1</td>\n",
              "    </tr>\n",
              "    <tr>\n",
              "      <th>1</th>\n",
              "      <td>Sports Movies</td>\n",
              "      <td>1</td>\n",
              "    </tr>\n",
              "    <tr>\n",
              "      <th>2</th>\n",
              "      <td>Romantic Movies</td>\n",
              "      <td>3</td>\n",
              "    </tr>\n",
              "    <tr>\n",
              "      <th>3</th>\n",
              "      <td>Stand-Up Comedy</td>\n",
              "      <td>8</td>\n",
              "    </tr>\n",
              "    <tr>\n",
              "      <th>4</th>\n",
              "      <td>Sci-Fi &amp; Fantasy</td>\n",
              "      <td>11</td>\n",
              "    </tr>\n",
              "    <tr>\n",
              "      <th>5</th>\n",
              "      <td>Cult Movies</td>\n",
              "      <td>12</td>\n",
              "    </tr>\n",
              "    <tr>\n",
              "      <th>6</th>\n",
              "      <td>Music &amp; Musicals</td>\n",
              "      <td>17</td>\n",
              "    </tr>\n",
              "    <tr>\n",
              "      <th>7</th>\n",
              "      <td>Anime Features</td>\n",
              "      <td>19</td>\n",
              "    </tr>\n",
              "    <tr>\n",
              "      <th>8</th>\n",
              "      <td>Independent Movies</td>\n",
              "      <td>20</td>\n",
              "    </tr>\n",
              "    <tr>\n",
              "      <th>9</th>\n",
              "      <td>Classic Movies</td>\n",
              "      <td>26</td>\n",
              "    </tr>\n",
              "    <tr>\n",
              "      <th>10</th>\n",
              "      <td>Children &amp; Family Movies</td>\n",
              "      <td>30</td>\n",
              "    </tr>\n",
              "    <tr>\n",
              "      <th>11</th>\n",
              "      <td>Documentaries</td>\n",
              "      <td>35</td>\n",
              "    </tr>\n",
              "    <tr>\n",
              "      <th>12</th>\n",
              "      <td>Anime Features</td>\n",
              "      <td>38</td>\n",
              "    </tr>\n",
              "    <tr>\n",
              "      <th>13</th>\n",
              "      <td>Cult Movies</td>\n",
              "      <td>47</td>\n",
              "    </tr>\n",
              "    <tr>\n",
              "      <th>14</th>\n",
              "      <td>Thrillers</td>\n",
              "      <td>49</td>\n",
              "    </tr>\n",
              "    <tr>\n",
              "      <th>15</th>\n",
              "      <td>Movies</td>\n",
              "      <td>56</td>\n",
              "    </tr>\n",
              "    <tr>\n",
              "      <th>16</th>\n",
              "      <td>Faith &amp; Spirituality</td>\n",
              "      <td>57</td>\n",
              "    </tr>\n",
              "    <tr>\n",
              "      <th>17</th>\n",
              "      <td>Horror Movies</td>\n",
              "      <td>68</td>\n",
              "    </tr>\n",
              "    <tr>\n",
              "      <th>18</th>\n",
              "      <td>Classic Movies</td>\n",
              "      <td>77</td>\n",
              "    </tr>\n",
              "    <tr>\n",
              "      <th>19</th>\n",
              "      <td>LGBTQ Movies</td>\n",
              "      <td>89</td>\n",
              "    </tr>\n",
              "    <tr>\n",
              "      <th>20</th>\n",
              "      <td>International Movies</td>\n",
              "      <td>114</td>\n",
              "    </tr>\n",
              "    <tr>\n",
              "      <th>21</th>\n",
              "      <td>Sports Movies</td>\n",
              "      <td>195</td>\n",
              "    </tr>\n",
              "    <tr>\n",
              "      <th>22</th>\n",
              "      <td>Sci-Fi &amp; Fantasy</td>\n",
              "      <td>207</td>\n",
              "    </tr>\n",
              "    <tr>\n",
              "      <th>23</th>\n",
              "      <td>Horror Movies</td>\n",
              "      <td>244</td>\n",
              "    </tr>\n",
              "    <tr>\n",
              "      <th>24</th>\n",
              "      <td>Music &amp; Musicals</td>\n",
              "      <td>304</td>\n",
              "    </tr>\n",
              "    <tr>\n",
              "      <th>25</th>\n",
              "      <td>Stand-Up Comedy</td>\n",
              "      <td>321</td>\n",
              "    </tr>\n",
              "    <tr>\n",
              "      <th>26</th>\n",
              "      <td>Comedies</td>\n",
              "      <td>397</td>\n",
              "    </tr>\n",
              "    <tr>\n",
              "      <th>27</th>\n",
              "      <td>Thrillers</td>\n",
              "      <td>442</td>\n",
              "    </tr>\n",
              "    <tr>\n",
              "      <th>28</th>\n",
              "      <td>Children &amp; Family Movies</td>\n",
              "      <td>502</td>\n",
              "    </tr>\n",
              "    <tr>\n",
              "      <th>29</th>\n",
              "      <td>Romantic Movies</td>\n",
              "      <td>528</td>\n",
              "    </tr>\n",
              "    <tr>\n",
              "      <th>30</th>\n",
              "      <td>Independent Movies</td>\n",
              "      <td>653</td>\n",
              "    </tr>\n",
              "    <tr>\n",
              "      <th>31</th>\n",
              "      <td>Action &amp; Adventure</td>\n",
              "      <td>721</td>\n",
              "    </tr>\n",
              "    <tr>\n",
              "      <th>32</th>\n",
              "      <td>Dramas</td>\n",
              "      <td>722</td>\n",
              "    </tr>\n",
              "    <tr>\n",
              "      <th>33</th>\n",
              "      <td>Documentaries</td>\n",
              "      <td>751</td>\n",
              "    </tr>\n",
              "    <tr>\n",
              "      <th>34</th>\n",
              "      <td>Comedies</td>\n",
              "      <td>1074</td>\n",
              "    </tr>\n",
              "    <tr>\n",
              "      <th>35</th>\n",
              "      <td>Dramas</td>\n",
              "      <td>1384</td>\n",
              "    </tr>\n",
              "    <tr>\n",
              "      <th>36</th>\n",
              "      <td>International Movies</td>\n",
              "      <td>2323</td>\n",
              "    </tr>\n",
              "  </tbody>\n",
              "</table>\n",
              "</div>\n",
              "      <button class=\"colab-df-convert\" onclick=\"convertToInteractive('df-cda90670-b2a2-4d75-848a-af7cea3b807c')\"\n",
              "              title=\"Convert this dataframe to an interactive table.\"\n",
              "              style=\"display:none;\">\n",
              "        \n",
              "  <svg xmlns=\"http://www.w3.org/2000/svg\" height=\"24px\"viewBox=\"0 0 24 24\"\n",
              "       width=\"24px\">\n",
              "    <path d=\"M0 0h24v24H0V0z\" fill=\"none\"/>\n",
              "    <path d=\"M18.56 5.44l.94 2.06.94-2.06 2.06-.94-2.06-.94-.94-2.06-.94 2.06-2.06.94zm-11 1L8.5 8.5l.94-2.06 2.06-.94-2.06-.94L8.5 2.5l-.94 2.06-2.06.94zm10 10l.94 2.06.94-2.06 2.06-.94-2.06-.94-.94-2.06-.94 2.06-2.06.94z\"/><path d=\"M17.41 7.96l-1.37-1.37c-.4-.4-.92-.59-1.43-.59-.52 0-1.04.2-1.43.59L10.3 9.45l-7.72 7.72c-.78.78-.78 2.05 0 2.83L4 21.41c.39.39.9.59 1.41.59.51 0 1.02-.2 1.41-.59l7.78-7.78 2.81-2.81c.8-.78.8-2.07 0-2.86zM5.41 20L4 18.59l7.72-7.72 1.47 1.35L5.41 20z\"/>\n",
              "  </svg>\n",
              "      </button>\n",
              "      \n",
              "  <style>\n",
              "    .colab-df-container {\n",
              "      display:flex;\n",
              "      flex-wrap:wrap;\n",
              "      gap: 12px;\n",
              "    }\n",
              "\n",
              "    .colab-df-convert {\n",
              "      background-color: #E8F0FE;\n",
              "      border: none;\n",
              "      border-radius: 50%;\n",
              "      cursor: pointer;\n",
              "      display: none;\n",
              "      fill: #1967D2;\n",
              "      height: 32px;\n",
              "      padding: 0 0 0 0;\n",
              "      width: 32px;\n",
              "    }\n",
              "\n",
              "    .colab-df-convert:hover {\n",
              "      background-color: #E2EBFA;\n",
              "      box-shadow: 0px 1px 2px rgba(60, 64, 67, 0.3), 0px 1px 3px 1px rgba(60, 64, 67, 0.15);\n",
              "      fill: #174EA6;\n",
              "    }\n",
              "\n",
              "    [theme=dark] .colab-df-convert {\n",
              "      background-color: #3B4455;\n",
              "      fill: #D2E3FC;\n",
              "    }\n",
              "\n",
              "    [theme=dark] .colab-df-convert:hover {\n",
              "      background-color: #434B5C;\n",
              "      box-shadow: 0px 1px 3px 1px rgba(0, 0, 0, 0.15);\n",
              "      filter: drop-shadow(0px 1px 2px rgba(0, 0, 0, 0.3));\n",
              "      fill: #FFFFFF;\n",
              "    }\n",
              "  </style>\n",
              "\n",
              "      <script>\n",
              "        const buttonEl =\n",
              "          document.querySelector('#df-cda90670-b2a2-4d75-848a-af7cea3b807c button.colab-df-convert');\n",
              "        buttonEl.style.display =\n",
              "          google.colab.kernel.accessAllowed ? 'block' : 'none';\n",
              "\n",
              "        async function convertToInteractive(key) {\n",
              "          const element = document.querySelector('#df-cda90670-b2a2-4d75-848a-af7cea3b807c');\n",
              "          const dataTable =\n",
              "            await google.colab.kernel.invokeFunction('convertToInteractive',\n",
              "                                                     [key], {});\n",
              "          if (!dataTable) return;\n",
              "\n",
              "          const docLinkHtml = 'Like what you see? Visit the ' +\n",
              "            '<a target=\"_blank\" href=https://colab.research.google.com/notebooks/data_table.ipynb>data table notebook</a>'\n",
              "            + ' to learn more about interactive tables.';\n",
              "          element.innerHTML = '';\n",
              "          dataTable['output_type'] = 'display_data';\n",
              "          await google.colab.output.renderOutput(dataTable, element);\n",
              "          const docLink = document.createElement('div');\n",
              "          docLink.innerHTML = docLinkHtml;\n",
              "          element.appendChild(docLink);\n",
              "        }\n",
              "      </script>\n",
              "    </div>\n",
              "  </div>\n",
              "  "
            ],
            "text/plain": [
              "                        genre  movie_count\n",
              "0                LGBTQ Movies            1\n",
              "1               Sports Movies            1\n",
              "2             Romantic Movies            3\n",
              "3             Stand-Up Comedy            8\n",
              "4            Sci-Fi & Fantasy           11\n",
              "5                 Cult Movies           12\n",
              "6            Music & Musicals           17\n",
              "7              Anime Features           19\n",
              "8          Independent Movies           20\n",
              "9              Classic Movies           26\n",
              "10   Children & Family Movies           30\n",
              "11              Documentaries           35\n",
              "12             Anime Features           38\n",
              "13                Cult Movies           47\n",
              "14                  Thrillers           49\n",
              "15                     Movies           56\n",
              "16       Faith & Spirituality           57\n",
              "17              Horror Movies           68\n",
              "18             Classic Movies           77\n",
              "19               LGBTQ Movies           89\n",
              "20       International Movies          114\n",
              "21              Sports Movies          195\n",
              "22           Sci-Fi & Fantasy          207\n",
              "23              Horror Movies          244\n",
              "24           Music & Musicals          304\n",
              "25            Stand-Up Comedy          321\n",
              "26                   Comedies          397\n",
              "27                  Thrillers          442\n",
              "28   Children & Family Movies          502\n",
              "29            Romantic Movies          528\n",
              "30         Independent Movies          653\n",
              "31         Action & Adventure          721\n",
              "32                     Dramas          722\n",
              "33              Documentaries          751\n",
              "34                   Comedies         1074\n",
              "35                     Dramas         1384\n",
              "36       International Movies         2323"
            ]
          },
          "metadata": {},
          "execution_count": 38
        }
      ]
    },
    {
      "cell_type": "code",
      "source": [
        "# first look of TV shows genres dataframe\n",
        "TV_genre_df"
      ],
      "metadata": {
        "colab": {
          "base_uri": "https://localhost:8080/",
          "height": 1000
        },
        "id": "GyOXT27ZzdY9",
        "outputId": "f1551a1b-aa96-4e84-c222-6636dc01849e"
      },
      "execution_count": 39,
      "outputs": [
        {
          "output_type": "execute_result",
          "data": {
            "text/html": [
              "\n",
              "  <div id=\"df-b150f82e-9c0b-482d-82e1-db6156dd50c6\">\n",
              "    <div class=\"colab-df-container\">\n",
              "      <div>\n",
              "<style scoped>\n",
              "    .dataframe tbody tr th:only-of-type {\n",
              "        vertical-align: middle;\n",
              "    }\n",
              "\n",
              "    .dataframe tbody tr th {\n",
              "        vertical-align: top;\n",
              "    }\n",
              "\n",
              "    .dataframe thead th {\n",
              "        text-align: right;\n",
              "    }\n",
              "</style>\n",
              "<table border=\"1\" class=\"dataframe\">\n",
              "  <thead>\n",
              "    <tr style=\"text-align: right;\">\n",
              "      <th></th>\n",
              "      <th>genre</th>\n",
              "      <th>tv_count</th>\n",
              "    </tr>\n",
              "  </thead>\n",
              "  <tbody>\n",
              "    <tr>\n",
              "      <th>0</th>\n",
              "      <td>TV Sci-Fi &amp; Fantasy</td>\n",
              "      <td>1</td>\n",
              "    </tr>\n",
              "    <tr>\n",
              "      <th>1</th>\n",
              "      <td>Spanish-Language TV Shows</td>\n",
              "      <td>2</td>\n",
              "    </tr>\n",
              "    <tr>\n",
              "      <th>2</th>\n",
              "      <td>Classic &amp; Cult TV</td>\n",
              "      <td>6</td>\n",
              "    </tr>\n",
              "    <tr>\n",
              "      <th>3</th>\n",
              "      <td>TV Horror</td>\n",
              "      <td>10</td>\n",
              "    </tr>\n",
              "    <tr>\n",
              "      <th>4</th>\n",
              "      <td>TV Shows</td>\n",
              "      <td>12</td>\n",
              "    </tr>\n",
              "    <tr>\n",
              "      <th>5</th>\n",
              "      <td>Stand-Up Comedy &amp; Talk Shows</td>\n",
              "      <td>19</td>\n",
              "    </tr>\n",
              "    <tr>\n",
              "      <th>6</th>\n",
              "      <td>Classic &amp; Cult TV</td>\n",
              "      <td>19</td>\n",
              "    </tr>\n",
              "    <tr>\n",
              "      <th>7</th>\n",
              "      <td>Romantic TV Shows</td>\n",
              "      <td>28</td>\n",
              "    </tr>\n",
              "    <tr>\n",
              "      <th>8</th>\n",
              "      <td>Stand-Up Comedy &amp; Talk Shows</td>\n",
              "      <td>33</td>\n",
              "    </tr>\n",
              "    <tr>\n",
              "      <th>9</th>\n",
              "      <td>TV Action &amp; Adventure</td>\n",
              "      <td>36</td>\n",
              "    </tr>\n",
              "    <tr>\n",
              "      <th>10</th>\n",
              "      <td>TV Thrillers</td>\n",
              "      <td>50</td>\n",
              "    </tr>\n",
              "    <tr>\n",
              "      <th>11</th>\n",
              "      <td>Kids' TV</td>\n",
              "      <td>55</td>\n",
              "    </tr>\n",
              "    <tr>\n",
              "      <th>12</th>\n",
              "      <td>Crime TV Shows</td>\n",
              "      <td>57</td>\n",
              "    </tr>\n",
              "    <tr>\n",
              "      <th>13</th>\n",
              "      <td>TV Horror</td>\n",
              "      <td>59</td>\n",
              "    </tr>\n",
              "    <tr>\n",
              "      <th>14</th>\n",
              "      <td>Teen TV Shows</td>\n",
              "      <td>60</td>\n",
              "    </tr>\n",
              "    <tr>\n",
              "      <th>15</th>\n",
              "      <td>TV Dramas</td>\n",
              "      <td>62</td>\n",
              "    </tr>\n",
              "    <tr>\n",
              "      <th>16</th>\n",
              "      <td>TV Sci-Fi &amp; Fantasy</td>\n",
              "      <td>74</td>\n",
              "    </tr>\n",
              "    <tr>\n",
              "      <th>17</th>\n",
              "      <td>Science &amp; Nature TV</td>\n",
              "      <td>85</td>\n",
              "    </tr>\n",
              "    <tr>\n",
              "      <th>18</th>\n",
              "      <td>TV Mysteries</td>\n",
              "      <td>90</td>\n",
              "    </tr>\n",
              "    <tr>\n",
              "      <th>19</th>\n",
              "      <td>Reality TV</td>\n",
              "      <td>102</td>\n",
              "    </tr>\n",
              "    <tr>\n",
              "      <th>20</th>\n",
              "      <td>TV Comedies</td>\n",
              "      <td>109</td>\n",
              "    </tr>\n",
              "    <tr>\n",
              "      <th>21</th>\n",
              "      <td>TV Action &amp; Adventure</td>\n",
              "      <td>113</td>\n",
              "    </tr>\n",
              "    <tr>\n",
              "      <th>22</th>\n",
              "      <td>Reality TV</td>\n",
              "      <td>120</td>\n",
              "    </tr>\n",
              "    <tr>\n",
              "      <th>23</th>\n",
              "      <td>Spanish-Language TV Shows</td>\n",
              "      <td>144</td>\n",
              "    </tr>\n",
              "    <tr>\n",
              "      <th>24</th>\n",
              "      <td>Anime Series</td>\n",
              "      <td>147</td>\n",
              "    </tr>\n",
              "    <tr>\n",
              "      <th>25</th>\n",
              "      <td>Korean TV Shows</td>\n",
              "      <td>150</td>\n",
              "    </tr>\n",
              "    <tr>\n",
              "      <th>26</th>\n",
              "      <td>Docuseries</td>\n",
              "      <td>159</td>\n",
              "    </tr>\n",
              "    <tr>\n",
              "      <th>27</th>\n",
              "      <td>Docuseries</td>\n",
              "      <td>193</td>\n",
              "    </tr>\n",
              "    <tr>\n",
              "      <th>28</th>\n",
              "      <td>British TV Shows</td>\n",
              "      <td>231</td>\n",
              "    </tr>\n",
              "    <tr>\n",
              "      <th>29</th>\n",
              "      <td>Romantic TV Shows</td>\n",
              "      <td>305</td>\n",
              "    </tr>\n",
              "    <tr>\n",
              "      <th>30</th>\n",
              "      <td>Kids' TV</td>\n",
              "      <td>357</td>\n",
              "    </tr>\n",
              "    <tr>\n",
              "      <th>31</th>\n",
              "      <td>Crime TV Shows</td>\n",
              "      <td>369</td>\n",
              "    </tr>\n",
              "    <tr>\n",
              "      <th>32</th>\n",
              "      <td>TV Comedies</td>\n",
              "      <td>409</td>\n",
              "    </tr>\n",
              "    <tr>\n",
              "      <th>33</th>\n",
              "      <td>International TV Shows</td>\n",
              "      <td>509</td>\n",
              "    </tr>\n",
              "    <tr>\n",
              "      <th>34</th>\n",
              "      <td>TV Dramas</td>\n",
              "      <td>641</td>\n",
              "    </tr>\n",
              "    <tr>\n",
              "      <th>35</th>\n",
              "      <td>International TV Shows</td>\n",
              "      <td>689</td>\n",
              "    </tr>\n",
              "  </tbody>\n",
              "</table>\n",
              "</div>\n",
              "      <button class=\"colab-df-convert\" onclick=\"convertToInteractive('df-b150f82e-9c0b-482d-82e1-db6156dd50c6')\"\n",
              "              title=\"Convert this dataframe to an interactive table.\"\n",
              "              style=\"display:none;\">\n",
              "        \n",
              "  <svg xmlns=\"http://www.w3.org/2000/svg\" height=\"24px\"viewBox=\"0 0 24 24\"\n",
              "       width=\"24px\">\n",
              "    <path d=\"M0 0h24v24H0V0z\" fill=\"none\"/>\n",
              "    <path d=\"M18.56 5.44l.94 2.06.94-2.06 2.06-.94-2.06-.94-.94-2.06-.94 2.06-2.06.94zm-11 1L8.5 8.5l.94-2.06 2.06-.94-2.06-.94L8.5 2.5l-.94 2.06-2.06.94zm10 10l.94 2.06.94-2.06 2.06-.94-2.06-.94-.94-2.06-.94 2.06-2.06.94z\"/><path d=\"M17.41 7.96l-1.37-1.37c-.4-.4-.92-.59-1.43-.59-.52 0-1.04.2-1.43.59L10.3 9.45l-7.72 7.72c-.78.78-.78 2.05 0 2.83L4 21.41c.39.39.9.59 1.41.59.51 0 1.02-.2 1.41-.59l7.78-7.78 2.81-2.81c.8-.78.8-2.07 0-2.86zM5.41 20L4 18.59l7.72-7.72 1.47 1.35L5.41 20z\"/>\n",
              "  </svg>\n",
              "      </button>\n",
              "      \n",
              "  <style>\n",
              "    .colab-df-container {\n",
              "      display:flex;\n",
              "      flex-wrap:wrap;\n",
              "      gap: 12px;\n",
              "    }\n",
              "\n",
              "    .colab-df-convert {\n",
              "      background-color: #E8F0FE;\n",
              "      border: none;\n",
              "      border-radius: 50%;\n",
              "      cursor: pointer;\n",
              "      display: none;\n",
              "      fill: #1967D2;\n",
              "      height: 32px;\n",
              "      padding: 0 0 0 0;\n",
              "      width: 32px;\n",
              "    }\n",
              "\n",
              "    .colab-df-convert:hover {\n",
              "      background-color: #E2EBFA;\n",
              "      box-shadow: 0px 1px 2px rgba(60, 64, 67, 0.3), 0px 1px 3px 1px rgba(60, 64, 67, 0.15);\n",
              "      fill: #174EA6;\n",
              "    }\n",
              "\n",
              "    [theme=dark] .colab-df-convert {\n",
              "      background-color: #3B4455;\n",
              "      fill: #D2E3FC;\n",
              "    }\n",
              "\n",
              "    [theme=dark] .colab-df-convert:hover {\n",
              "      background-color: #434B5C;\n",
              "      box-shadow: 0px 1px 3px 1px rgba(0, 0, 0, 0.15);\n",
              "      filter: drop-shadow(0px 1px 2px rgba(0, 0, 0, 0.3));\n",
              "      fill: #FFFFFF;\n",
              "    }\n",
              "  </style>\n",
              "\n",
              "      <script>\n",
              "        const buttonEl =\n",
              "          document.querySelector('#df-b150f82e-9c0b-482d-82e1-db6156dd50c6 button.colab-df-convert');\n",
              "        buttonEl.style.display =\n",
              "          google.colab.kernel.accessAllowed ? 'block' : 'none';\n",
              "\n",
              "        async function convertToInteractive(key) {\n",
              "          const element = document.querySelector('#df-b150f82e-9c0b-482d-82e1-db6156dd50c6');\n",
              "          const dataTable =\n",
              "            await google.colab.kernel.invokeFunction('convertToInteractive',\n",
              "                                                     [key], {});\n",
              "          if (!dataTable) return;\n",
              "\n",
              "          const docLinkHtml = 'Like what you see? Visit the ' +\n",
              "            '<a target=\"_blank\" href=https://colab.research.google.com/notebooks/data_table.ipynb>data table notebook</a>'\n",
              "            + ' to learn more about interactive tables.';\n",
              "          element.innerHTML = '';\n",
              "          dataTable['output_type'] = 'display_data';\n",
              "          await google.colab.output.renderOutput(dataTable, element);\n",
              "          const docLink = document.createElement('div');\n",
              "          docLink.innerHTML = docLinkHtml;\n",
              "          element.appendChild(docLink);\n",
              "        }\n",
              "      </script>\n",
              "    </div>\n",
              "  </div>\n",
              "  "
            ],
            "text/plain": [
              "                            genre  tv_count\n",
              "0             TV Sci-Fi & Fantasy         1\n",
              "1       Spanish-Language TV Shows         2\n",
              "2               Classic & Cult TV         6\n",
              "3                       TV Horror        10\n",
              "4                        TV Shows        12\n",
              "5    Stand-Up Comedy & Talk Shows        19\n",
              "6               Classic & Cult TV        19\n",
              "7               Romantic TV Shows        28\n",
              "8    Stand-Up Comedy & Talk Shows        33\n",
              "9           TV Action & Adventure        36\n",
              "10                   TV Thrillers        50\n",
              "11                       Kids' TV        55\n",
              "12                 Crime TV Shows        57\n",
              "13                      TV Horror        59\n",
              "14                  Teen TV Shows        60\n",
              "15                      TV Dramas        62\n",
              "16            TV Sci-Fi & Fantasy        74\n",
              "17            Science & Nature TV        85\n",
              "18                   TV Mysteries        90\n",
              "19                     Reality TV       102\n",
              "20                    TV Comedies       109\n",
              "21          TV Action & Adventure       113\n",
              "22                     Reality TV       120\n",
              "23      Spanish-Language TV Shows       144\n",
              "24                   Anime Series       147\n",
              "25                Korean TV Shows       150\n",
              "26                     Docuseries       159\n",
              "27                     Docuseries       193\n",
              "28               British TV Shows       231\n",
              "29              Romantic TV Shows       305\n",
              "30                       Kids' TV       357\n",
              "31                 Crime TV Shows       369\n",
              "32                    TV Comedies       409\n",
              "33         International TV Shows       509\n",
              "34                      TV Dramas       641\n",
              "35         International TV Shows       689"
            ]
          },
          "metadata": {},
          "execution_count": 39
        }
      ]
    },
    {
      "cell_type": "markdown",
      "source": [
        "Some rows seems to be exactly same but due to initial space attached they are different.\n",
        "\n",
        "Need to remove those spaces, so as to get total count of each genres.\n",
        "\n",
        "After removing spaces, aggregation using pandas pivot table in order to get sum of counts of each genres."
      ],
      "metadata": {
        "id": "BSLcBnjYziMw"
      }
    },
    {
      "cell_type": "code",
      "source": [
        "# to remove spaces around the word\n",
        "movie_genre_df['genre']=movie_genre_df['genre'].str.strip()\n",
        "TV_genre_df['genre']=TV_genre_df['genre'].str.strip()"
      ],
      "metadata": {
        "id": "fGWfV54UznJm"
      },
      "execution_count": 40,
      "outputs": []
    },
    {
      "cell_type": "code",
      "source": [
        "# Aggregating dataframe so as to get final counts of each genres\n",
        "movie_genre_df = pd.pivot_table(movie_genre_df, index=['genre'],values=['movie_count'], aggfunc='sum').reset_index().sort_values('movie_count')\n",
        "TV_genre_df = pd.pivot_table(TV_genre_df, index=['genre'],values=['tv_count'], aggfunc='sum').reset_index().sort_values('tv_count')"
      ],
      "metadata": {
        "id": "D_ANosWSzuan"
      },
      "execution_count": 41,
      "outputs": []
    },
    {
      "cell_type": "code",
      "source": [
        "# Final movie genres datafrmae look like\n",
        "movie_genre_df"
      ],
      "metadata": {
        "colab": {
          "base_uri": "https://localhost:8080/",
          "height": 676
        },
        "id": "ka3vywCRzxn0",
        "outputId": "cf00390b-3739-48dc-b8d3-26975396a4a8"
      },
      "execution_count": 42,
      "outputs": [
        {
          "output_type": "execute_result",
          "data": {
            "text/html": [
              "\n",
              "  <div id=\"df-c382a727-45ce-4b11-8d57-f5e70a005655\">\n",
              "    <div class=\"colab-df-container\">\n",
              "      <div>\n",
              "<style scoped>\n",
              "    .dataframe tbody tr th:only-of-type {\n",
              "        vertical-align: middle;\n",
              "    }\n",
              "\n",
              "    .dataframe tbody tr th {\n",
              "        vertical-align: top;\n",
              "    }\n",
              "\n",
              "    .dataframe thead th {\n",
              "        text-align: right;\n",
              "    }\n",
              "</style>\n",
              "<table border=\"1\" class=\"dataframe\">\n",
              "  <thead>\n",
              "    <tr style=\"text-align: right;\">\n",
              "      <th></th>\n",
              "      <th>genre</th>\n",
              "      <th>movie_count</th>\n",
              "    </tr>\n",
              "  </thead>\n",
              "  <tbody>\n",
              "    <tr>\n",
              "      <th>13</th>\n",
              "      <td>Movies</td>\n",
              "      <td>56</td>\n",
              "    </tr>\n",
              "    <tr>\n",
              "      <th>1</th>\n",
              "      <td>Anime Features</td>\n",
              "      <td>57</td>\n",
              "    </tr>\n",
              "    <tr>\n",
              "      <th>8</th>\n",
              "      <td>Faith &amp; Spirituality</td>\n",
              "      <td>57</td>\n",
              "    </tr>\n",
              "    <tr>\n",
              "      <th>5</th>\n",
              "      <td>Cult Movies</td>\n",
              "      <td>59</td>\n",
              "    </tr>\n",
              "    <tr>\n",
              "      <th>12</th>\n",
              "      <td>LGBTQ Movies</td>\n",
              "      <td>90</td>\n",
              "    </tr>\n",
              "    <tr>\n",
              "      <th>3</th>\n",
              "      <td>Classic Movies</td>\n",
              "      <td>103</td>\n",
              "    </tr>\n",
              "    <tr>\n",
              "      <th>17</th>\n",
              "      <td>Sports Movies</td>\n",
              "      <td>196</td>\n",
              "    </tr>\n",
              "    <tr>\n",
              "      <th>16</th>\n",
              "      <td>Sci-Fi &amp; Fantasy</td>\n",
              "      <td>218</td>\n",
              "    </tr>\n",
              "    <tr>\n",
              "      <th>9</th>\n",
              "      <td>Horror Movies</td>\n",
              "      <td>312</td>\n",
              "    </tr>\n",
              "    <tr>\n",
              "      <th>14</th>\n",
              "      <td>Music &amp; Musicals</td>\n",
              "      <td>321</td>\n",
              "    </tr>\n",
              "    <tr>\n",
              "      <th>18</th>\n",
              "      <td>Stand-Up Comedy</td>\n",
              "      <td>329</td>\n",
              "    </tr>\n",
              "    <tr>\n",
              "      <th>19</th>\n",
              "      <td>Thrillers</td>\n",
              "      <td>491</td>\n",
              "    </tr>\n",
              "    <tr>\n",
              "      <th>15</th>\n",
              "      <td>Romantic Movies</td>\n",
              "      <td>531</td>\n",
              "    </tr>\n",
              "    <tr>\n",
              "      <th>2</th>\n",
              "      <td>Children &amp; Family Movies</td>\n",
              "      <td>532</td>\n",
              "    </tr>\n",
              "    <tr>\n",
              "      <th>10</th>\n",
              "      <td>Independent Movies</td>\n",
              "      <td>673</td>\n",
              "    </tr>\n",
              "    <tr>\n",
              "      <th>0</th>\n",
              "      <td>Action &amp; Adventure</td>\n",
              "      <td>721</td>\n",
              "    </tr>\n",
              "    <tr>\n",
              "      <th>6</th>\n",
              "      <td>Documentaries</td>\n",
              "      <td>786</td>\n",
              "    </tr>\n",
              "    <tr>\n",
              "      <th>4</th>\n",
              "      <td>Comedies</td>\n",
              "      <td>1471</td>\n",
              "    </tr>\n",
              "    <tr>\n",
              "      <th>7</th>\n",
              "      <td>Dramas</td>\n",
              "      <td>2106</td>\n",
              "    </tr>\n",
              "    <tr>\n",
              "      <th>11</th>\n",
              "      <td>International Movies</td>\n",
              "      <td>2437</td>\n",
              "    </tr>\n",
              "  </tbody>\n",
              "</table>\n",
              "</div>\n",
              "      <button class=\"colab-df-convert\" onclick=\"convertToInteractive('df-c382a727-45ce-4b11-8d57-f5e70a005655')\"\n",
              "              title=\"Convert this dataframe to an interactive table.\"\n",
              "              style=\"display:none;\">\n",
              "        \n",
              "  <svg xmlns=\"http://www.w3.org/2000/svg\" height=\"24px\"viewBox=\"0 0 24 24\"\n",
              "       width=\"24px\">\n",
              "    <path d=\"M0 0h24v24H0V0z\" fill=\"none\"/>\n",
              "    <path d=\"M18.56 5.44l.94 2.06.94-2.06 2.06-.94-2.06-.94-.94-2.06-.94 2.06-2.06.94zm-11 1L8.5 8.5l.94-2.06 2.06-.94-2.06-.94L8.5 2.5l-.94 2.06-2.06.94zm10 10l.94 2.06.94-2.06 2.06-.94-2.06-.94-.94-2.06-.94 2.06-2.06.94z\"/><path d=\"M17.41 7.96l-1.37-1.37c-.4-.4-.92-.59-1.43-.59-.52 0-1.04.2-1.43.59L10.3 9.45l-7.72 7.72c-.78.78-.78 2.05 0 2.83L4 21.41c.39.39.9.59 1.41.59.51 0 1.02-.2 1.41-.59l7.78-7.78 2.81-2.81c.8-.78.8-2.07 0-2.86zM5.41 20L4 18.59l7.72-7.72 1.47 1.35L5.41 20z\"/>\n",
              "  </svg>\n",
              "      </button>\n",
              "      \n",
              "  <style>\n",
              "    .colab-df-container {\n",
              "      display:flex;\n",
              "      flex-wrap:wrap;\n",
              "      gap: 12px;\n",
              "    }\n",
              "\n",
              "    .colab-df-convert {\n",
              "      background-color: #E8F0FE;\n",
              "      border: none;\n",
              "      border-radius: 50%;\n",
              "      cursor: pointer;\n",
              "      display: none;\n",
              "      fill: #1967D2;\n",
              "      height: 32px;\n",
              "      padding: 0 0 0 0;\n",
              "      width: 32px;\n",
              "    }\n",
              "\n",
              "    .colab-df-convert:hover {\n",
              "      background-color: #E2EBFA;\n",
              "      box-shadow: 0px 1px 2px rgba(60, 64, 67, 0.3), 0px 1px 3px 1px rgba(60, 64, 67, 0.15);\n",
              "      fill: #174EA6;\n",
              "    }\n",
              "\n",
              "    [theme=dark] .colab-df-convert {\n",
              "      background-color: #3B4455;\n",
              "      fill: #D2E3FC;\n",
              "    }\n",
              "\n",
              "    [theme=dark] .colab-df-convert:hover {\n",
              "      background-color: #434B5C;\n",
              "      box-shadow: 0px 1px 3px 1px rgba(0, 0, 0, 0.15);\n",
              "      filter: drop-shadow(0px 1px 2px rgba(0, 0, 0, 0.3));\n",
              "      fill: #FFFFFF;\n",
              "    }\n",
              "  </style>\n",
              "\n",
              "      <script>\n",
              "        const buttonEl =\n",
              "          document.querySelector('#df-c382a727-45ce-4b11-8d57-f5e70a005655 button.colab-df-convert');\n",
              "        buttonEl.style.display =\n",
              "          google.colab.kernel.accessAllowed ? 'block' : 'none';\n",
              "\n",
              "        async function convertToInteractive(key) {\n",
              "          const element = document.querySelector('#df-c382a727-45ce-4b11-8d57-f5e70a005655');\n",
              "          const dataTable =\n",
              "            await google.colab.kernel.invokeFunction('convertToInteractive',\n",
              "                                                     [key], {});\n",
              "          if (!dataTable) return;\n",
              "\n",
              "          const docLinkHtml = 'Like what you see? Visit the ' +\n",
              "            '<a target=\"_blank\" href=https://colab.research.google.com/notebooks/data_table.ipynb>data table notebook</a>'\n",
              "            + ' to learn more about interactive tables.';\n",
              "          element.innerHTML = '';\n",
              "          dataTable['output_type'] = 'display_data';\n",
              "          await google.colab.output.renderOutput(dataTable, element);\n",
              "          const docLink = document.createElement('div');\n",
              "          docLink.innerHTML = docLinkHtml;\n",
              "          element.appendChild(docLink);\n",
              "        }\n",
              "      </script>\n",
              "    </div>\n",
              "  </div>\n",
              "  "
            ],
            "text/plain": [
              "                       genre  movie_count\n",
              "13                    Movies           56\n",
              "1             Anime Features           57\n",
              "8       Faith & Spirituality           57\n",
              "5                Cult Movies           59\n",
              "12              LGBTQ Movies           90\n",
              "3             Classic Movies          103\n",
              "17             Sports Movies          196\n",
              "16          Sci-Fi & Fantasy          218\n",
              "9              Horror Movies          312\n",
              "14          Music & Musicals          321\n",
              "18           Stand-Up Comedy          329\n",
              "19                 Thrillers          491\n",
              "15           Romantic Movies          531\n",
              "2   Children & Family Movies          532\n",
              "10        Independent Movies          673\n",
              "0         Action & Adventure          721\n",
              "6              Documentaries          786\n",
              "4                   Comedies         1471\n",
              "7                     Dramas         2106\n",
              "11      International Movies         2437"
            ]
          },
          "metadata": {},
          "execution_count": 42
        }
      ]
    },
    {
      "cell_type": "code",
      "source": [
        "# Final TV shows genres datafrmae look like\n",
        "TV_genre_df"
      ],
      "metadata": {
        "colab": {
          "base_uri": "https://localhost:8080/",
          "height": 739
        },
        "id": "58q1x_2lz2l4",
        "outputId": "e62a5087-fdef-42c1-a0a4-dc14c56df689"
      },
      "execution_count": 43,
      "outputs": [
        {
          "output_type": "execute_result",
          "data": {
            "text/html": [
              "\n",
              "  <div id=\"df-93039c09-7026-45e7-a229-58ed2a3442ff\">\n",
              "    <div class=\"colab-df-container\">\n",
              "      <div>\n",
              "<style scoped>\n",
              "    .dataframe tbody tr th:only-of-type {\n",
              "        vertical-align: middle;\n",
              "    }\n",
              "\n",
              "    .dataframe tbody tr th {\n",
              "        vertical-align: top;\n",
              "    }\n",
              "\n",
              "    .dataframe thead th {\n",
              "        text-align: right;\n",
              "    }\n",
              "</style>\n",
              "<table border=\"1\" class=\"dataframe\">\n",
              "  <thead>\n",
              "    <tr style=\"text-align: right;\">\n",
              "      <th></th>\n",
              "      <th>genre</th>\n",
              "      <th>tv_count</th>\n",
              "    </tr>\n",
              "  </thead>\n",
              "  <tbody>\n",
              "    <tr>\n",
              "      <th>19</th>\n",
              "      <td>TV Shows</td>\n",
              "      <td>12</td>\n",
              "    </tr>\n",
              "    <tr>\n",
              "      <th>2</th>\n",
              "      <td>Classic &amp; Cult TV</td>\n",
              "      <td>25</td>\n",
              "    </tr>\n",
              "    <tr>\n",
              "      <th>20</th>\n",
              "      <td>TV Thrillers</td>\n",
              "      <td>50</td>\n",
              "    </tr>\n",
              "    <tr>\n",
              "      <th>12</th>\n",
              "      <td>Stand-Up Comedy &amp; Talk Shows</td>\n",
              "      <td>52</td>\n",
              "    </tr>\n",
              "    <tr>\n",
              "      <th>21</th>\n",
              "      <td>Teen TV Shows</td>\n",
              "      <td>60</td>\n",
              "    </tr>\n",
              "    <tr>\n",
              "      <th>16</th>\n",
              "      <td>TV Horror</td>\n",
              "      <td>69</td>\n",
              "    </tr>\n",
              "    <tr>\n",
              "      <th>18</th>\n",
              "      <td>TV Sci-Fi &amp; Fantasy</td>\n",
              "      <td>75</td>\n",
              "    </tr>\n",
              "    <tr>\n",
              "      <th>10</th>\n",
              "      <td>Science &amp; Nature TV</td>\n",
              "      <td>85</td>\n",
              "    </tr>\n",
              "    <tr>\n",
              "      <th>17</th>\n",
              "      <td>TV Mysteries</td>\n",
              "      <td>90</td>\n",
              "    </tr>\n",
              "    <tr>\n",
              "      <th>11</th>\n",
              "      <td>Spanish-Language TV Shows</td>\n",
              "      <td>146</td>\n",
              "    </tr>\n",
              "    <tr>\n",
              "      <th>0</th>\n",
              "      <td>Anime Series</td>\n",
              "      <td>147</td>\n",
              "    </tr>\n",
              "    <tr>\n",
              "      <th>13</th>\n",
              "      <td>TV Action &amp; Adventure</td>\n",
              "      <td>149</td>\n",
              "    </tr>\n",
              "    <tr>\n",
              "      <th>7</th>\n",
              "      <td>Korean TV Shows</td>\n",
              "      <td>150</td>\n",
              "    </tr>\n",
              "    <tr>\n",
              "      <th>8</th>\n",
              "      <td>Reality TV</td>\n",
              "      <td>222</td>\n",
              "    </tr>\n",
              "    <tr>\n",
              "      <th>1</th>\n",
              "      <td>British TV Shows</td>\n",
              "      <td>231</td>\n",
              "    </tr>\n",
              "    <tr>\n",
              "      <th>9</th>\n",
              "      <td>Romantic TV Shows</td>\n",
              "      <td>333</td>\n",
              "    </tr>\n",
              "    <tr>\n",
              "      <th>4</th>\n",
              "      <td>Docuseries</td>\n",
              "      <td>352</td>\n",
              "    </tr>\n",
              "    <tr>\n",
              "      <th>6</th>\n",
              "      <td>Kids' TV</td>\n",
              "      <td>412</td>\n",
              "    </tr>\n",
              "    <tr>\n",
              "      <th>3</th>\n",
              "      <td>Crime TV Shows</td>\n",
              "      <td>426</td>\n",
              "    </tr>\n",
              "    <tr>\n",
              "      <th>14</th>\n",
              "      <td>TV Comedies</td>\n",
              "      <td>518</td>\n",
              "    </tr>\n",
              "    <tr>\n",
              "      <th>15</th>\n",
              "      <td>TV Dramas</td>\n",
              "      <td>703</td>\n",
              "    </tr>\n",
              "    <tr>\n",
              "      <th>5</th>\n",
              "      <td>International TV Shows</td>\n",
              "      <td>1198</td>\n",
              "    </tr>\n",
              "  </tbody>\n",
              "</table>\n",
              "</div>\n",
              "      <button class=\"colab-df-convert\" onclick=\"convertToInteractive('df-93039c09-7026-45e7-a229-58ed2a3442ff')\"\n",
              "              title=\"Convert this dataframe to an interactive table.\"\n",
              "              style=\"display:none;\">\n",
              "        \n",
              "  <svg xmlns=\"http://www.w3.org/2000/svg\" height=\"24px\"viewBox=\"0 0 24 24\"\n",
              "       width=\"24px\">\n",
              "    <path d=\"M0 0h24v24H0V0z\" fill=\"none\"/>\n",
              "    <path d=\"M18.56 5.44l.94 2.06.94-2.06 2.06-.94-2.06-.94-.94-2.06-.94 2.06-2.06.94zm-11 1L8.5 8.5l.94-2.06 2.06-.94-2.06-.94L8.5 2.5l-.94 2.06-2.06.94zm10 10l.94 2.06.94-2.06 2.06-.94-2.06-.94-.94-2.06-.94 2.06-2.06.94z\"/><path d=\"M17.41 7.96l-1.37-1.37c-.4-.4-.92-.59-1.43-.59-.52 0-1.04.2-1.43.59L10.3 9.45l-7.72 7.72c-.78.78-.78 2.05 0 2.83L4 21.41c.39.39.9.59 1.41.59.51 0 1.02-.2 1.41-.59l7.78-7.78 2.81-2.81c.8-.78.8-2.07 0-2.86zM5.41 20L4 18.59l7.72-7.72 1.47 1.35L5.41 20z\"/>\n",
              "  </svg>\n",
              "      </button>\n",
              "      \n",
              "  <style>\n",
              "    .colab-df-container {\n",
              "      display:flex;\n",
              "      flex-wrap:wrap;\n",
              "      gap: 12px;\n",
              "    }\n",
              "\n",
              "    .colab-df-convert {\n",
              "      background-color: #E8F0FE;\n",
              "      border: none;\n",
              "      border-radius: 50%;\n",
              "      cursor: pointer;\n",
              "      display: none;\n",
              "      fill: #1967D2;\n",
              "      height: 32px;\n",
              "      padding: 0 0 0 0;\n",
              "      width: 32px;\n",
              "    }\n",
              "\n",
              "    .colab-df-convert:hover {\n",
              "      background-color: #E2EBFA;\n",
              "      box-shadow: 0px 1px 2px rgba(60, 64, 67, 0.3), 0px 1px 3px 1px rgba(60, 64, 67, 0.15);\n",
              "      fill: #174EA6;\n",
              "    }\n",
              "\n",
              "    [theme=dark] .colab-df-convert {\n",
              "      background-color: #3B4455;\n",
              "      fill: #D2E3FC;\n",
              "    }\n",
              "\n",
              "    [theme=dark] .colab-df-convert:hover {\n",
              "      background-color: #434B5C;\n",
              "      box-shadow: 0px 1px 3px 1px rgba(0, 0, 0, 0.15);\n",
              "      filter: drop-shadow(0px 1px 2px rgba(0, 0, 0, 0.3));\n",
              "      fill: #FFFFFF;\n",
              "    }\n",
              "  </style>\n",
              "\n",
              "      <script>\n",
              "        const buttonEl =\n",
              "          document.querySelector('#df-93039c09-7026-45e7-a229-58ed2a3442ff button.colab-df-convert');\n",
              "        buttonEl.style.display =\n",
              "          google.colab.kernel.accessAllowed ? 'block' : 'none';\n",
              "\n",
              "        async function convertToInteractive(key) {\n",
              "          const element = document.querySelector('#df-93039c09-7026-45e7-a229-58ed2a3442ff');\n",
              "          const dataTable =\n",
              "            await google.colab.kernel.invokeFunction('convertToInteractive',\n",
              "                                                     [key], {});\n",
              "          if (!dataTable) return;\n",
              "\n",
              "          const docLinkHtml = 'Like what you see? Visit the ' +\n",
              "            '<a target=\"_blank\" href=https://colab.research.google.com/notebooks/data_table.ipynb>data table notebook</a>'\n",
              "            + ' to learn more about interactive tables.';\n",
              "          element.innerHTML = '';\n",
              "          dataTable['output_type'] = 'display_data';\n",
              "          await google.colab.output.renderOutput(dataTable, element);\n",
              "          const docLink = document.createElement('div');\n",
              "          docLink.innerHTML = docLinkHtml;\n",
              "          element.appendChild(docLink);\n",
              "        }\n",
              "      </script>\n",
              "    </div>\n",
              "  </div>\n",
              "  "
            ],
            "text/plain": [
              "                           genre  tv_count\n",
              "19                      TV Shows        12\n",
              "2              Classic & Cult TV        25\n",
              "20                  TV Thrillers        50\n",
              "12  Stand-Up Comedy & Talk Shows        52\n",
              "21                 Teen TV Shows        60\n",
              "16                     TV Horror        69\n",
              "18           TV Sci-Fi & Fantasy        75\n",
              "10           Science & Nature TV        85\n",
              "17                  TV Mysteries        90\n",
              "11     Spanish-Language TV Shows       146\n",
              "0                   Anime Series       147\n",
              "13         TV Action & Adventure       149\n",
              "7                Korean TV Shows       150\n",
              "8                     Reality TV       222\n",
              "1               British TV Shows       231\n",
              "9              Romantic TV Shows       333\n",
              "4                     Docuseries       352\n",
              "6                       Kids' TV       412\n",
              "3                 Crime TV Shows       426\n",
              "14                   TV Comedies       518\n",
              "15                     TV Dramas       703\n",
              "5         International TV Shows      1198"
            ]
          },
          "metadata": {},
          "execution_count": 43
        }
      ]
    },
    {
      "cell_type": "markdown",
      "source": [
        "Now do not have repetative rows in genres."
      ],
      "metadata": {
        "id": "zGThZu56z6L4"
      }
    },
    {
      "cell_type": "markdown",
      "source": [
        "**Top 5 Genres with Maximum Number of Movies**"
      ],
      "metadata": {
        "id": "91s3WbPlz9Nb"
      }
    },
    {
      "cell_type": "code",
      "source": [
        "# bar plot showing top 5 genres in movies\n",
        "fig, ax = plt.subplots(figsize=(10,5),facecolor=\"#363336\")\n",
        "ax.patch.set_facecolor('#363336')\n",
        "ax.barh(y=movie_genre_df['genre'][-5:], width = movie_genre_df['movie_count'][-5:]/movie_genre_df['movie_count'].sum()*100, height=0.5, color = 'red',alpha=0.8)\n",
        "ax.tick_params(axis= 'x', colors='#F5E9F5',labelsize=15) \n",
        "ax.tick_params(axis='y', colors='#F5E9F5',labelsize=15)\n",
        "ax.set_xlabel(\"Percentage\", color='#F5E9F5', fontsize=20)\n",
        "ax.set_ylabel(\"Genres\", color='#F5E9F5', fontsize=20)\n",
        "ax.set_title(\"Top 5 Genres in Movies\", color='#F5E9F5', fontsize=30)\n",
        "ax.spines['right'].set_visible(False)\n",
        "ax.spines['top'].set_visible(False)\n",
        "ax.spines['left'].set_visible(True)"
      ],
      "metadata": {
        "colab": {
          "base_uri": "https://localhost:8080/",
          "height": 377
        },
        "id": "JxE-86nH0Db8",
        "outputId": "e2144fea-c7e7-4120-a29d-1945247fc977"
      },
      "execution_count": 44,
      "outputs": [
        {
          "output_type": "display_data",
          "data": {
            "image/png": "[encoded data removed]",
            "text/plain": [
              "<Figure size 720x360 with 1 Axes>"
            ]
          },
          "metadata": {}
        }
      ]
    },
    {
      "cell_type": "code",
      "source": [
        "# bar plot showing top 5 genres in TV shows\n",
        "fig, ax = plt.subplots(figsize=(10,5),facecolor=\"#363336\")\n",
        "ax.patch.set_facecolor('#363336')\n",
        "ax.barh(y=TV_genre_df['genre'][-5:], width = TV_genre_df['tv_count'][-5:]/TV_genre_df['tv_count'].sum()*100,\n",
        "        height=0.5, color = 'red',alpha=0.8)\n",
        "ax.tick_params(axis= 'x', colors='#F5E9F5',labelsize=15) \n",
        "ax.tick_params(axis='y', colors='#F5E9F5',labelsize=15)\n",
        "ax.set_xlabel(\"Percentage\", color='#F5E9F5', fontsize=20)\n",
        "ax.set_ylabel(\"Genres\", color='#F5E9F5', fontsize=20)\n",
        "ax.set_title(\"Top 5 Genres in TV Shows\", color='#F5E9F5', fontsize=30)\n",
        "ax.spines['right'].set_visible(False)\n",
        "ax.spines['top'].set_visible(False)\n",
        "ax.spines['left'].set_visible(True)"
      ],
      "metadata": {
        "colab": {
          "base_uri": "https://localhost:8080/",
          "height": 377
        },
        "id": "K2bImOPO0KB7",
        "outputId": "62c407ba-d142-46ff-a7b4-b1b0a0ff6f5c"
      },
      "execution_count": 45,
      "outputs": [
        {
          "output_type": "display_data",
          "data": {
            "image/png": "[encoded data removed]",
            "text/plain": [
              "<Figure size 720x360 with 1 Axes>"
            ]
          },
          "metadata": {}
        }
      ]
    },
    {
      "cell_type": "markdown",
      "source": [
        "Top 3 genres are exactly same for movies and TV shows.\n",
        "\n",
        "Dramas genres hit all over the world."
      ],
      "metadata": {
        "id": "uWNfHImE0NnK"
      }
    },
    {
      "cell_type": "markdown",
      "source": [
        "***Originally Uploaded on Netflix***"
      ],
      "metadata": {
        "id": "jeW2U3mW0cop"
      }
    },
    {
      "cell_type": "markdown",
      "source": [
        "Some movies and TV shows were actually released in the past and they were added later on Netflix.\n",
        "\n",
        "But some movies and TV shows were released on Netflix itself. Named those as Netflix Originals.\n",
        "\n",
        "**Originals** : For which released year and added year is same."
      ],
      "metadata": {
        "id": "1ZEr4dVq0iVf"
      }
    },
    {
      "cell_type": "markdown",
      "source": [
        "**Originals in Movies**\n",
        "\n",
        "Creating new feature as originals having values Yes and No."
      ],
      "metadata": {
        "id": "ZKvLz5Yt04xl"
      }
    },
    {
      "cell_type": "code",
      "source": [
        "movies_df['originals'] = np.where(movies_df['release_year']==movies_df['year_added'], 'Yes', 'No')"
      ],
      "metadata": {
        "id": "9PNEx1Es0Pvd"
      },
      "execution_count": 46,
      "outputs": []
    },
    {
      "cell_type": "code",
      "source": [
        "# pie plot showing percentage of originals and others in movies\n",
        "fig, ax = plt.subplots(figsize=(5,5),facecolor=\"#363336\")\n",
        "ax.patch.set_facecolor('#363336')\n",
        "explode = (0, 0.1)\n",
        "ax.pie(movies_df['originals'].value_counts(), explode=explode, autopct='%.2f%%', labels= ['Others', 'Originals'],\n",
        "       shadow=True, startangle=90,textprops={'color':\"black\", 'fontsize': 20}, colors =['red','#F5E9F5'])"
      ],
      "metadata": {
        "colab": {
          "base_uri": "https://localhost:8080/",
          "height": 413
        },
        "id": "SU5D4JFE1i4N",
        "outputId": "7958781f-6a20-4e9b-abb9-bbe2d17aa256"
      },
      "execution_count": 47,
      "outputs": [
        {
          "output_type": "execute_result",
          "data": {
            "text/plain": [
              "([<matplotlib.patches.Wedge at 0x7fbf74650890>,\n",
              "  <matplotlib.patches.Wedge at 0x7fbf7463c350>],\n",
              " [Text(-0.8902585632950727, -0.6460957285726268, 'Others'),\n",
              "  Text(0.9711911599582614, 0.7048317038974103, 'Originals')],\n",
              " [Text(-0.4855955799791305, -0.3524158519487055, '69.98%'),\n",
              "  Text(0.5665281766423191, 0.41115182727348937, '30.02%')])"
            ]
          },
          "metadata": {},
          "execution_count": 47
        },
        {
          "output_type": "display_data",
          "data": {
            "image/png": "[encoded data removed]",
            "text/plain": [
              "<Figure size 360x360 with 1 Axes>"
            ]
          },
          "metadata": {}
        }
      ]
    },
    {
      "cell_type": "markdown",
      "source": [
        "30% movies released on Netflix.\n",
        "\n",
        "70% movies added on Netflix were released earlier by different mode.\n",
        "\n",
        "May be after buying rights of old released movies and then adding all the movies on Netflix."
      ],
      "metadata": {
        "id": "UnE8LBEC1nwJ"
      }
    },
    {
      "cell_type": "markdown",
      "source": [
        "**Originals in TV Shows**"
      ],
      "metadata": {
        "id": "YxHk3akB1vr7"
      }
    },
    {
      "cell_type": "code",
      "source": [
        "tv_df['originals'] = np.where(tv_df['release_year']==tv_df['year_added'], 'Yes', 'No')"
      ],
      "metadata": {
        "id": "XvW0xXNG12o5"
      },
      "execution_count": 48,
      "outputs": []
    },
    {
      "cell_type": "code",
      "source": [
        "# pie plot showing percentage of originals and others in movies\n",
        "fig, ax = plt.subplots(figsize=(5,5),facecolor=\"#363336\")\n",
        "ax.patch.set_facecolor('#363336')\n",
        "explode = (0, 0.1)\n",
        "ax.pie(tv_df['originals'].value_counts(), explode=explode, autopct='%.2f%%', labels= ['Others', 'Originals'],\n",
        "       shadow=True, startangle=90,textprops={'color':\"black\", 'fontsize': 20}, colors =['red','#F5E9F5'])"
      ],
      "metadata": {
        "colab": {
          "base_uri": "https://localhost:8080/",
          "height": 413
        },
        "id": "6svLQ7A02Bgv",
        "outputId": "42fb1821-bcf2-4e53-9235-87c412674070"
      },
      "execution_count": 49,
      "outputs": [
        {
          "output_type": "execute_result",
          "data": {
            "text/plain": [
              "([<matplotlib.patches.Wedge at 0x7fbf74526110>,\n",
              "  <matplotlib.patches.Wedge at 0x7fbf74526b90>],\n",
              " [Text(-1.099885969077529, -0.015838403530207094, 'Others'),\n",
              "  Text(1.1998756010123188, 0.017278370737050828, 'Originals')],\n",
              " [Text(-0.5999378013150156, -0.008639129198294779, '50.46%'),\n",
              "  Text(0.6999274339238526, 0.010079049596612983, '49.54%')])"
            ]
          },
          "metadata": {},
          "execution_count": 49
        },
        {
          "output_type": "display_data",
          "data": {
            "image/png": "[encoded data removed]",
            "text/plain": [
              "<Figure size 360x360 with 1 Axes>"
            ]
          },
          "metadata": {}
        }
      ]
    },
    {
      "cell_type": "markdown",
      "source": [
        "\n",
        "\n",
        "*   50-50\n",
        "*   50% TV shows originaly from Netflix whereas remaining 50% were added after released on different mode.\n",
        "\n"
      ],
      "metadata": {
        "id": "T2YiBV052JT8"
      }
    },
    {
      "cell_type": "markdown",
      "source": [
        "# **Data Preprocessing**"
      ],
      "metadata": {
        "id": "I8WNLwwm2Z57"
      }
    },
    {
      "cell_type": "code",
      "source": [
        "df.head()"
      ],
      "metadata": {
        "colab": {
          "base_uri": "https://localhost:8080/",
          "height": 666
        },
        "id": "WYpHcyZ22YK-",
        "outputId": "76c205cf-299c-4e2a-e032-74fd38549243"
      },
      "execution_count": 50,
      "outputs": [
        {
          "output_type": "execute_result",
          "data": {
            "text/html": [
              "\n",
              "  <div id=\"df-72e80ecd-ccfd-4886-8024-68a04fb41555\">\n",
              "    <div class=\"colab-df-container\">\n",
              "      <div>\n",
              "<style scoped>\n",
              "    .dataframe tbody tr th:only-of-type {\n",
              "        vertical-align: middle;\n",
              "    }\n",
              "\n",
              "    .dataframe tbody tr th {\n",
              "        vertical-align: top;\n",
              "    }\n",
              "\n",
              "    .dataframe thead th {\n",
              "        text-align: right;\n",
              "    }\n",
              "</style>\n",
              "<table border=\"1\" class=\"dataframe\">\n",
              "  <thead>\n",
              "    <tr style=\"text-align: right;\">\n",
              "      <th></th>\n",
              "      <th>show_id</th>\n",
              "      <th>type</th>\n",
              "      <th>title</th>\n",
              "      <th>cast</th>\n",
              "      <th>country</th>\n",
              "      <th>date_added</th>\n",
              "      <th>release_year</th>\n",
              "      <th>rating</th>\n",
              "      <th>duration</th>\n",
              "      <th>listed_in</th>\n",
              "      <th>description</th>\n",
              "      <th>year_added</th>\n",
              "      <th>month_added</th>\n",
              "      <th>day_added</th>\n",
              "    </tr>\n",
              "  </thead>\n",
              "  <tbody>\n",
              "    <tr>\n",
              "      <th>0</th>\n",
              "      <td>s1</td>\n",
              "      <td>TV Show</td>\n",
              "      <td>3%</td>\n",
              "      <td>[João Miguel, Bianca Comparato, Michel Gomes, ...</td>\n",
              "      <td>Brazil</td>\n",
              "      <td>2020-08-14</td>\n",
              "      <td>2020</td>\n",
              "      <td>TV-MA</td>\n",
              "      <td>4</td>\n",
              "      <td>International TV Shows, TV Dramas, TV Sci-Fi &amp;...</td>\n",
              "      <td>In a future where the elite inhabit an island ...</td>\n",
              "      <td>2020</td>\n",
              "      <td>8</td>\n",
              "      <td>14</td>\n",
              "    </tr>\n",
              "    <tr>\n",
              "      <th>1</th>\n",
              "      <td>s2</td>\n",
              "      <td>Movie</td>\n",
              "      <td>7:19</td>\n",
              "      <td>[Demián Bichir, Héctor Bonilla, Oscar Serrano,...</td>\n",
              "      <td>Mexico</td>\n",
              "      <td>2016-12-23</td>\n",
              "      <td>2016</td>\n",
              "      <td>TV-MA</td>\n",
              "      <td>93</td>\n",
              "      <td>Dramas, International Movies</td>\n",
              "      <td>After a devastating earthquake hits Mexico Cit...</td>\n",
              "      <td>2016</td>\n",
              "      <td>12</td>\n",
              "      <td>23</td>\n",
              "    </tr>\n",
              "    <tr>\n",
              "      <th>2</th>\n",
              "      <td>s3</td>\n",
              "      <td>Movie</td>\n",
              "      <td>23:59</td>\n",
              "      <td>[Tedd Chan, Stella Chung, Henley Hii, Lawrence...</td>\n",
              "      <td>Singapore</td>\n",
              "      <td>2018-12-20</td>\n",
              "      <td>2011</td>\n",
              "      <td>R</td>\n",
              "      <td>78</td>\n",
              "      <td>Horror Movies, International Movies</td>\n",
              "      <td>When an army recruit is found dead, his fellow...</td>\n",
              "      <td>2018</td>\n",
              "      <td>12</td>\n",
              "      <td>20</td>\n",
              "    </tr>\n",
              "    <tr>\n",
              "      <th>3</th>\n",
              "      <td>s4</td>\n",
              "      <td>Movie</td>\n",
              "      <td>9</td>\n",
              "      <td>[Elijah Wood, John C. Reilly, Jennifer Connell...</td>\n",
              "      <td>United States</td>\n",
              "      <td>2017-11-16</td>\n",
              "      <td>2009</td>\n",
              "      <td>PG-13</td>\n",
              "      <td>80</td>\n",
              "      <td>Action &amp; Adventure, Independent Movies, Sci-Fi...</td>\n",
              "      <td>In a postapocalyptic world, rag-doll robots hi...</td>\n",
              "      <td>2017</td>\n",
              "      <td>11</td>\n",
              "      <td>16</td>\n",
              "    </tr>\n",
              "    <tr>\n",
              "      <th>4</th>\n",
              "      <td>s5</td>\n",
              "      <td>Movie</td>\n",
              "      <td>21</td>\n",
              "      <td>[Jim Sturgess, Kevin Spacey, Kate Bosworth, Aa...</td>\n",
              "      <td>United States</td>\n",
              "      <td>2020-01-01</td>\n",
              "      <td>2008</td>\n",
              "      <td>PG-13</td>\n",
              "      <td>123</td>\n",
              "      <td>Dramas</td>\n",
              "      <td>A brilliant group of students become card-coun...</td>\n",
              "      <td>2020</td>\n",
              "      <td>1</td>\n",
              "      <td>1</td>\n",
              "    </tr>\n",
              "  </tbody>\n",
              "</table>\n",
              "</div>\n",
              "      <button class=\"colab-df-convert\" onclick=\"convertToInteractive('df-72e80ecd-ccfd-4886-8024-68a04fb41555')\"\n",
              "              title=\"Convert this dataframe to an interactive table.\"\n",
              "              style=\"display:none;\">\n",
              "        \n",
              "  <svg xmlns=\"http://www.w3.org/2000/svg\" height=\"24px\"viewBox=\"0 0 24 24\"\n",
              "       width=\"24px\">\n",
              "    <path d=\"M0 0h24v24H0V0z\" fill=\"none\"/>\n",
              "    <path d=\"M18.56 5.44l.94 2.06.94-2.06 2.06-.94-2.06-.94-.94-2.06-.94 2.06-2.06.94zm-11 1L8.5 8.5l.94-2.06 2.06-.94-2.06-.94L8.5 2.5l-.94 2.06-2.06.94zm10 10l.94 2.06.94-2.06 2.06-.94-2.06-.94-.94-2.06-.94 2.06-2.06.94z\"/><path d=\"M17.41 7.96l-1.37-1.37c-.4-.4-.92-.59-1.43-.59-.52 0-1.04.2-1.43.59L10.3 9.45l-7.72 7.72c-.78.78-.78 2.05 0 2.83L4 21.41c.39.39.9.59 1.41.59.51 0 1.02-.2 1.41-.59l7.78-7.78 2.81-2.81c.8-.78.8-2.07 0-2.86zM5.41 20L4 18.59l7.72-7.72 1.47 1.35L5.41 20z\"/>\n",
              "  </svg>\n",
              "      </button>\n",
              "      \n",
              "  <style>\n",
              "    .colab-df-container {\n",
              "      display:flex;\n",
              "      flex-wrap:wrap;\n",
              "      gap: 12px;\n",
              "    }\n",
              "\n",
              "    .colab-df-convert {\n",
              "      background-color: #E8F0FE;\n",
              "      border: none;\n",
              "      border-radius: 50%;\n",
              "      cursor: pointer;\n",
              "      display: none;\n",
              "      fill: #1967D2;\n",
              "      height: 32px;\n",
              "      padding: 0 0 0 0;\n",
              "      width: 32px;\n",
              "    }\n",
              "\n",
              "    .colab-df-convert:hover {\n",
              "      background-color: #E2EBFA;\n",
              "      box-shadow: 0px 1px 2px rgba(60, 64, 67, 0.3), 0px 1px 3px 1px rgba(60, 64, 67, 0.15);\n",
              "      fill: #174EA6;\n",
              "    }\n",
              "\n",
              "    [theme=dark] .colab-df-convert {\n",
              "      background-color: #3B4455;\n",
              "      fill: #D2E3FC;\n",
              "    }\n",
              "\n",
              "    [theme=dark] .colab-df-convert:hover {\n",
              "      background-color: #434B5C;\n",
              "      box-shadow: 0px 1px 3px 1px rgba(0, 0, 0, 0.15);\n",
              "      filter: drop-shadow(0px 1px 2px rgba(0, 0, 0, 0.3));\n",
              "      fill: #FFFFFF;\n",
              "    }\n",
              "  </style>\n",
              "\n",
              "      <script>\n",
              "        const buttonEl =\n",
              "          document.querySelector('#df-72e80ecd-ccfd-4886-8024-68a04fb41555 button.colab-df-convert');\n",
              "        buttonEl.style.display =\n",
              "          google.colab.kernel.accessAllowed ? 'block' : 'none';\n",
              "\n",
              "        async function convertToInteractive(key) {\n",
              "          const element = document.querySelector('#df-72e80ecd-ccfd-4886-8024-68a04fb41555');\n",
              "          const dataTable =\n",
              "            await google.colab.kernel.invokeFunction('convertToInteractive',\n",
              "                                                     [key], {});\n",
              "          if (!dataTable) return;\n",
              "\n",
              "          const docLinkHtml = 'Like what you see? Visit the ' +\n",
              "            '<a target=\"_blank\" href=https://colab.research.google.com/notebooks/data_table.ipynb>data table notebook</a>'\n",
              "            + ' to learn more about interactive tables.';\n",
              "          element.innerHTML = '';\n",
              "          dataTable['output_type'] = 'display_data';\n",
              "          await google.colab.output.renderOutput(dataTable, element);\n",
              "          const docLink = document.createElement('div');\n",
              "          docLink.innerHTML = docLinkHtml;\n",
              "          element.appendChild(docLink);\n",
              "        }\n",
              "      </script>\n",
              "    </div>\n",
              "  </div>\n",
              "  "
            ],
            "text/plain": [
              "  show_id     type  title                                               cast  \\\n",
              "0      s1  TV Show     3%  [João Miguel, Bianca Comparato, Michel Gomes, ...   \n",
              "1      s2    Movie   7:19  [Demián Bichir, Héctor Bonilla, Oscar Serrano,...   \n",
              "2      s3    Movie  23:59  [Tedd Chan, Stella Chung, Henley Hii, Lawrence...   \n",
              "3      s4    Movie      9  [Elijah Wood, John C. Reilly, Jennifer Connell...   \n",
              "4      s5    Movie     21  [Jim Sturgess, Kevin Spacey, Kate Bosworth, Aa...   \n",
              "\n",
              "         country date_added  release_year rating duration  \\\n",
              "0         Brazil 2020-08-14          2020  TV-MA        4   \n",
              "1         Mexico 2016-12-23          2016  TV-MA       93   \n",
              "2      Singapore 2018-12-20          2011      R       78   \n",
              "3  United States 2017-11-16          2009  PG-13       80   \n",
              "4  United States 2020-01-01          2008  PG-13      123   \n",
              "\n",
              "                                           listed_in  \\\n",
              "0  International TV Shows, TV Dramas, TV Sci-Fi &...   \n",
              "1                       Dramas, International Movies   \n",
              "2                Horror Movies, International Movies   \n",
              "3  Action & Adventure, Independent Movies, Sci-Fi...   \n",
              "4                                             Dramas   \n",
              "\n",
              "                                         description  year_added  month_added  \\\n",
              "0  In a future where the elite inhabit an island ...        2020            8   \n",
              "1  After a devastating earthquake hits Mexico Cit...        2016           12   \n",
              "2  When an army recruit is found dead, his fellow...        2018           12   \n",
              "3  In a postapocalyptic world, rag-doll robots hi...        2017           11   \n",
              "4  A brilliant group of students become card-coun...        2020            1   \n",
              "\n",
              "   day_added  \n",
              "0         14  \n",
              "1         23  \n",
              "2         20  \n",
              "3         16  \n",
              "4          1  "
            ]
          },
          "metadata": {},
          "execution_count": 50
        }
      ]
    },
    {
      "cell_type": "code",
      "source": [
        "# this is how values in cast feature looks like\n",
        "df['cast'][0]"
      ],
      "metadata": {
        "colab": {
          "base_uri": "https://localhost:8080/"
        },
        "id": "FzV542ns2r7G",
        "outputId": "b1a2fd34-1e37-4336-db7c-41924428a467"
      },
      "execution_count": 54,
      "outputs": [
        {
          "output_type": "execute_result",
          "data": {
            "text/plain": [
              "['João Miguel',\n",
              " 'Bianca Comparato',\n",
              " 'Michel Gomes',\n",
              " 'Rodolfo Valente',\n",
              " 'Vaneza Oliveira',\n",
              " 'Rafael Lozano',\n",
              " 'Viviane Porto',\n",
              " 'Mel Fronckowiak',\n",
              " 'Sergio Mamberti',\n",
              " 'Zezé Motta',\n",
              " 'Celso Frateschi']"
            ]
          },
          "metadata": {},
          "execution_count": 54
        }
      ]
    }
  ]
}